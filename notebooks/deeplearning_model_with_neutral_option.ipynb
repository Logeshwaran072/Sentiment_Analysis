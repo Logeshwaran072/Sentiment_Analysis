{
 "cells": [
  {
   "cell_type": "code",
   "execution_count": 1,
   "metadata": {},
   "outputs": [],
   "source": [
    "import pandas as pd\n",
    "import numpy as np\n",
    "import matplotlib.pyplot as plt\n",
    "from sklearn.metrics import classification_report, confusion_matrix\n",
    "import re\n",
    "import string\n",
    "from nltk.corpus import stopwords\n",
    "import nltk\n",
    "from sklearn.model_selection import train_test_split\n",
    "import tensorflow as tf\n",
    "import seaborn as sns"
   ]
  },
  {
   "cell_type": "code",
   "execution_count": 10,
   "metadata": {},
   "outputs": [
    {
     "name": "stderr",
     "output_type": "stream",
     "text": [
      "[nltk_data] Downloading package stopwords to\n",
      "[nltk_data]     C:\\Users\\loges\\AppData\\Roaming\\nltk_data...\n",
      "[nltk_data]   Package stopwords is already up-to-date!\n"
     ]
    }
   ],
   "source": [
    "nltk.download('stopwords')\n",
    "stop_words = set(stopwords.words('english'))"
   ]
  },
  {
   "cell_type": "code",
   "execution_count": 11,
   "metadata": {},
   "outputs": [],
   "source": [
    "column_names = ['target', 'id', 'date', 'flag', 'user', 'text']\n",
    "df = pd.read_csv(\"D:/Project/Sentiment_Analysis/Dataset/Raw/training.1600000.processed.noemoticon (sentiment140).csv\", encoding='latin-1', names=column_names )"
   ]
  },
  {
   "cell_type": "code",
   "execution_count": 12,
   "metadata": {},
   "outputs": [
    {
     "data": {
      "text/html": [
       "<div>\n",
       "<style scoped>\n",
       "    .dataframe tbody tr th:only-of-type {\n",
       "        vertical-align: middle;\n",
       "    }\n",
       "\n",
       "    .dataframe tbody tr th {\n",
       "        vertical-align: top;\n",
       "    }\n",
       "\n",
       "    .dataframe thead th {\n",
       "        text-align: right;\n",
       "    }\n",
       "</style>\n",
       "<table border=\"1\" class=\"dataframe\">\n",
       "  <thead>\n",
       "    <tr style=\"text-align: right;\">\n",
       "      <th></th>\n",
       "      <th>target</th>\n",
       "      <th>id</th>\n",
       "      <th>date</th>\n",
       "      <th>flag</th>\n",
       "      <th>user</th>\n",
       "      <th>text</th>\n",
       "    </tr>\n",
       "  </thead>\n",
       "  <tbody>\n",
       "    <tr>\n",
       "      <th>0</th>\n",
       "      <td>0</td>\n",
       "      <td>1467810369</td>\n",
       "      <td>Mon Apr 06 22:19:45 PDT 2009</td>\n",
       "      <td>NO_QUERY</td>\n",
       "      <td>_TheSpecialOne_</td>\n",
       "      <td>@switchfoot http://twitpic.com/2y1zl - Awww, t...</td>\n",
       "    </tr>\n",
       "    <tr>\n",
       "      <th>1</th>\n",
       "      <td>0</td>\n",
       "      <td>1467810672</td>\n",
       "      <td>Mon Apr 06 22:19:49 PDT 2009</td>\n",
       "      <td>NO_QUERY</td>\n",
       "      <td>scotthamilton</td>\n",
       "      <td>is upset that he can't update his Facebook by ...</td>\n",
       "    </tr>\n",
       "    <tr>\n",
       "      <th>2</th>\n",
       "      <td>0</td>\n",
       "      <td>1467810917</td>\n",
       "      <td>Mon Apr 06 22:19:53 PDT 2009</td>\n",
       "      <td>NO_QUERY</td>\n",
       "      <td>mattycus</td>\n",
       "      <td>@Kenichan I dived many times for the ball. Man...</td>\n",
       "    </tr>\n",
       "    <tr>\n",
       "      <th>3</th>\n",
       "      <td>0</td>\n",
       "      <td>1467811184</td>\n",
       "      <td>Mon Apr 06 22:19:57 PDT 2009</td>\n",
       "      <td>NO_QUERY</td>\n",
       "      <td>ElleCTF</td>\n",
       "      <td>my whole body feels itchy and like its on fire</td>\n",
       "    </tr>\n",
       "    <tr>\n",
       "      <th>4</th>\n",
       "      <td>0</td>\n",
       "      <td>1467811193</td>\n",
       "      <td>Mon Apr 06 22:19:57 PDT 2009</td>\n",
       "      <td>NO_QUERY</td>\n",
       "      <td>Karoli</td>\n",
       "      <td>@nationwideclass no, it's not behaving at all....</td>\n",
       "    </tr>\n",
       "  </tbody>\n",
       "</table>\n",
       "</div>"
      ],
      "text/plain": [
       "   target          id                          date      flag  \\\n",
       "0       0  1467810369  Mon Apr 06 22:19:45 PDT 2009  NO_QUERY   \n",
       "1       0  1467810672  Mon Apr 06 22:19:49 PDT 2009  NO_QUERY   \n",
       "2       0  1467810917  Mon Apr 06 22:19:53 PDT 2009  NO_QUERY   \n",
       "3       0  1467811184  Mon Apr 06 22:19:57 PDT 2009  NO_QUERY   \n",
       "4       0  1467811193  Mon Apr 06 22:19:57 PDT 2009  NO_QUERY   \n",
       "\n",
       "              user                                               text  \n",
       "0  _TheSpecialOne_  @switchfoot http://twitpic.com/2y1zl - Awww, t...  \n",
       "1    scotthamilton  is upset that he can't update his Facebook by ...  \n",
       "2         mattycus  @Kenichan I dived many times for the ball. Man...  \n",
       "3          ElleCTF    my whole body feels itchy and like its on fire   \n",
       "4           Karoli  @nationwideclass no, it's not behaving at all....  "
      ]
     },
     "execution_count": 12,
     "metadata": {},
     "output_type": "execute_result"
    }
   ],
   "source": [
    "df.head()"
   ]
  },
  {
   "cell_type": "code",
   "execution_count": 13,
   "metadata": {},
   "outputs": [
    {
     "data": {
      "text/plain": [
       "0    800000\n",
       "4    800000\n",
       "Name: target, dtype: int64"
      ]
     },
     "execution_count": 13,
     "metadata": {},
     "output_type": "execute_result"
    }
   ],
   "source": [
    "df['target'].value_counts()"
   ]
  },
  {
   "cell_type": "code",
   "execution_count": 14,
   "metadata": {},
   "outputs": [],
   "source": [
    "df['target']=df['target'].replace({4:1})"
   ]
  },
  {
   "cell_type": "code",
   "execution_count": 15,
   "metadata": {},
   "outputs": [
    {
     "data": {
      "text/plain": [
       "0    800000\n",
       "1    800000\n",
       "Name: target, dtype: int64"
      ]
     },
     "execution_count": 15,
     "metadata": {},
     "output_type": "execute_result"
    }
   ],
   "source": [
    "df[\"target\"].value_counts()"
   ]
  },
  {
   "cell_type": "code",
   "execution_count": 16,
   "metadata": {},
   "outputs": [
    {
     "data": {
      "text/plain": [
       "target    0\n",
       "id        0\n",
       "date      0\n",
       "flag      0\n",
       "user      0\n",
       "text      0\n",
       "dtype: int64"
      ]
     },
     "execution_count": 16,
     "metadata": {},
     "output_type": "execute_result"
    }
   ],
   "source": [
    "df.isnull().sum()"
   ]
  },
  {
   "cell_type": "markdown",
   "metadata": {},
   "source": [
    "Since the dataset has only positive and negative sentiment i created the Neutral Sentiment by using vanderSentiment."
   ]
  },
  {
   "cell_type": "code",
   "execution_count": 17,
   "metadata": {},
   "outputs": [
    {
     "name": "stdout",
     "output_type": "stream",
     "text": [
      "1.0    589963\n",
      "2.0    527432\n",
      "0.0    482605\n",
      "Name: label, dtype: int64\n"
     ]
    }
   ],
   "source": [
    "from vaderSentiment.vaderSentiment import SentimentIntensityAnalyzer\n",
    "import pandas as pd\n",
    "\n",
    "# Load Sentiment140 dataset\n",
    "df = pd.read_csv(\"D:/Project/Sentiment_Analysis/Dataset/Raw/training.1600000.processed.noemoticon (sentiment140).csv\", encoding='latin-1', usecols=[0, 5], names=[\"label\", \"text\"])\n",
    "\n",
    "# Convert labels (0=negative, 4=positive)\n",
    "df['label'] = df['label'].replace(4, 2)  # Make 4 → 2 (positive)\n",
    "\n",
    "# Initialize VADER\n",
    "analyzer = SentimentIntensityAnalyzer()\n",
    "\n",
    "# Function to classify neutral tweets\n",
    "def classify_neutral(text):\n",
    "    score = analyzer.polarity_scores(text)['compound']\n",
    "    if -0.25 <= score <= 0.25:  # Adjust threshold as needed\n",
    "        return 1  # Neutral\n",
    "    return None  # Keep original label\n",
    "\n",
    "# Apply function\n",
    "df['neutral_label'] = df['text'].apply(classify_neutral)\n",
    "\n",
    "# Fill in neutral class where applicable\n",
    "df['label'] = df['neutral_label'].combine_first(df['label'])\n",
    "\n",
    "# Remove extra column\n",
    "df.drop(columns=['neutral_label'], inplace=True)\n",
    "\n",
    "# Check new class distribution\n",
    "print(df['label'].value_counts())"
   ]
  },
  {
   "cell_type": "code",
   "execution_count": 18,
   "metadata": {},
   "outputs": [
    {
     "data": {
      "text/html": [
       "<div>\n",
       "<style scoped>\n",
       "    .dataframe tbody tr th:only-of-type {\n",
       "        vertical-align: middle;\n",
       "    }\n",
       "\n",
       "    .dataframe tbody tr th {\n",
       "        vertical-align: top;\n",
       "    }\n",
       "\n",
       "    .dataframe thead th {\n",
       "        text-align: right;\n",
       "    }\n",
       "</style>\n",
       "<table border=\"1\" class=\"dataframe\">\n",
       "  <thead>\n",
       "    <tr style=\"text-align: right;\">\n",
       "      <th></th>\n",
       "      <th>label</th>\n",
       "      <th>text</th>\n",
       "    </tr>\n",
       "  </thead>\n",
       "  <tbody>\n",
       "    <tr>\n",
       "      <th>0</th>\n",
       "      <td>1.0</td>\n",
       "      <td>@switchfoot http://twitpic.com/2y1zl - Awww, t...</td>\n",
       "    </tr>\n",
       "    <tr>\n",
       "      <th>1</th>\n",
       "      <td>0.0</td>\n",
       "      <td>is upset that he can't update his Facebook by ...</td>\n",
       "    </tr>\n",
       "    <tr>\n",
       "      <th>2</th>\n",
       "      <td>0.0</td>\n",
       "      <td>@Kenichan I dived many times for the ball. Man...</td>\n",
       "    </tr>\n",
       "    <tr>\n",
       "      <th>3</th>\n",
       "      <td>1.0</td>\n",
       "      <td>my whole body feels itchy and like its on fire</td>\n",
       "    </tr>\n",
       "    <tr>\n",
       "      <th>4</th>\n",
       "      <td>0.0</td>\n",
       "      <td>@nationwideclass no, it's not behaving at all....</td>\n",
       "    </tr>\n",
       "  </tbody>\n",
       "</table>\n",
       "</div>"
      ],
      "text/plain": [
       "   label                                               text\n",
       "0    1.0  @switchfoot http://twitpic.com/2y1zl - Awww, t...\n",
       "1    0.0  is upset that he can't update his Facebook by ...\n",
       "2    0.0  @Kenichan I dived many times for the ball. Man...\n",
       "3    1.0    my whole body feels itchy and like its on fire \n",
       "4    0.0  @nationwideclass no, it's not behaving at all...."
      ]
     },
     "execution_count": 18,
     "metadata": {},
     "output_type": "execute_result"
    }
   ],
   "source": [
    "df.head()"
   ]
  },
  {
   "cell_type": "code",
   "execution_count": 13,
   "metadata": {},
   "outputs": [],
   "source": [
    "import os\n",
    "\n",
    "folder_path = \"D:\\Project\\Sentiment_Analysis\\Dataset\\pre_processed\"  # Change this to your preferred folder\n",
    "file_name = \"Sentiment140_dataset_with_neutral_sentiment.csv\"\n",
    "\n",
    "# ✅ Ensure the folder exists\n",
    "os.makedirs(folder_path, exist_ok=True)  # Creates the folder if it doesn't exist\n",
    "\n",
    "# Save the file\n",
    "df.to_csv(os.path.join(folder_path, file_name), index=False)\n"
   ]
  },
  {
   "cell_type": "code",
   "execution_count": 9,
   "metadata": {},
   "outputs": [],
   "source": [
    "df=pd.read_csv(\"Sentiment140_dataset_with_netural_sentiment.csv\")"
   ]
  },
  {
   "cell_type": "code",
   "execution_count": 19,
   "metadata": {},
   "outputs": [
    {
     "data": {
      "text/html": [
       "<div>\n",
       "<style scoped>\n",
       "    .dataframe tbody tr th:only-of-type {\n",
       "        vertical-align: middle;\n",
       "    }\n",
       "\n",
       "    .dataframe tbody tr th {\n",
       "        vertical-align: top;\n",
       "    }\n",
       "\n",
       "    .dataframe thead th {\n",
       "        text-align: right;\n",
       "    }\n",
       "</style>\n",
       "<table border=\"1\" class=\"dataframe\">\n",
       "  <thead>\n",
       "    <tr style=\"text-align: right;\">\n",
       "      <th></th>\n",
       "      <th>label</th>\n",
       "      <th>text</th>\n",
       "    </tr>\n",
       "  </thead>\n",
       "  <tbody>\n",
       "    <tr>\n",
       "      <th>0</th>\n",
       "      <td>1.0</td>\n",
       "      <td>@switchfoot http://twitpic.com/2y1zl - Awww, t...</td>\n",
       "    </tr>\n",
       "    <tr>\n",
       "      <th>1</th>\n",
       "      <td>0.0</td>\n",
       "      <td>is upset that he can't update his Facebook by ...</td>\n",
       "    </tr>\n",
       "    <tr>\n",
       "      <th>2</th>\n",
       "      <td>0.0</td>\n",
       "      <td>@Kenichan I dived many times for the ball. Man...</td>\n",
       "    </tr>\n",
       "    <tr>\n",
       "      <th>3</th>\n",
       "      <td>1.0</td>\n",
       "      <td>my whole body feels itchy and like its on fire</td>\n",
       "    </tr>\n",
       "    <tr>\n",
       "      <th>4</th>\n",
       "      <td>0.0</td>\n",
       "      <td>@nationwideclass no, it's not behaving at all....</td>\n",
       "    </tr>\n",
       "  </tbody>\n",
       "</table>\n",
       "</div>"
      ],
      "text/plain": [
       "   label                                               text\n",
       "0    1.0  @switchfoot http://twitpic.com/2y1zl - Awww, t...\n",
       "1    0.0  is upset that he can't update his Facebook by ...\n",
       "2    0.0  @Kenichan I dived many times for the ball. Man...\n",
       "3    1.0    my whole body feels itchy and like its on fire \n",
       "4    0.0  @nationwideclass no, it's not behaving at all...."
      ]
     },
     "execution_count": 19,
     "metadata": {},
     "output_type": "execute_result"
    }
   ],
   "source": [
    "df.head()"
   ]
  },
  {
   "cell_type": "code",
   "execution_count": 20,
   "metadata": {},
   "outputs": [],
   "source": [
    "# for Deep learning model we will use only text and label column\n",
    "def preprocess_text(text):\n",
    "    \"\"\"\n",
    "    Preprocess a given text string by performing the following steps:\n",
    "      1. Convert the text to lowercase.\n",
    "      2. Remove URLs (e.g., http:// or https:// links).\n",
    "      3. Remove Twitter mentions (e.g., @username).\n",
    "      4. Remove hashtag symbols, retaining the hashtagged word.\n",
    "      5. Remove HTML tags.\n",
    "      6. Remove punctuation.\n",
    "      7. Remove numbers.\n",
    "      8. Remove extra whitespace.\n",
    "      9. Remove stop words.\n",
    "\n",
    "    Parameters:\n",
    "      text (str): The input text string (tweet) to be cleaned.\n",
    "\n",
    "    Returns:\n",
    "      str: The cleaned text string.\n",
    "    \"\"\"\n",
    "    # Convert to lowercase\n",
    "    text = text.lower()\n",
    "    # Remove URLs\n",
    "    text = re.sub(r'http\\S+', '', text)\n",
    "    # Remove Twitter mentions\n",
    "    text = re.sub(r'@\\w+', '', text)\n",
    "    # Remove hashtag symbols (keep the text)\n",
    "    text = re.sub(r'#', '', text)\n",
    "    # Remove HTML tags\n",
    "    text = re.sub(r'<.*?>', '', text)\n",
    "    # Remove punctuation\n",
    "    text = text.translate(str.maketrans('', '', string.punctuation))\n",
    "    # Remove numbers\n",
    "    text = re.sub(r'\\d+', '', text)\n",
    "    # Remove extra whitespace\n",
    "    text = re.sub(r'\\s+', ' ', text).strip()\n",
    "    # Remove stop words\n",
    "    tokens = text.split()\n",
    "    filtered_tokens = [word for word in tokens if word not in stop_words]\n",
    "\n",
    "    return \" \".join(filtered_tokens)\n",
    "\n",
    "# Apply the preprocessing function to the 'text' column and create a new column 'clean_text'\n",
    "df['clean_text'] = df['text'].apply(preprocess_text)"
   ]
  },
  {
   "cell_type": "code",
   "execution_count": 21,
   "metadata": {},
   "outputs": [
    {
     "data": {
      "text/html": [
       "<div>\n",
       "<style scoped>\n",
       "    .dataframe tbody tr th:only-of-type {\n",
       "        vertical-align: middle;\n",
       "    }\n",
       "\n",
       "    .dataframe tbody tr th {\n",
       "        vertical-align: top;\n",
       "    }\n",
       "\n",
       "    .dataframe thead th {\n",
       "        text-align: right;\n",
       "    }\n",
       "</style>\n",
       "<table border=\"1\" class=\"dataframe\">\n",
       "  <thead>\n",
       "    <tr style=\"text-align: right;\">\n",
       "      <th></th>\n",
       "      <th>label</th>\n",
       "      <th>text</th>\n",
       "      <th>clean_text</th>\n",
       "    </tr>\n",
       "  </thead>\n",
       "  <tbody>\n",
       "    <tr>\n",
       "      <th>0</th>\n",
       "      <td>1.0</td>\n",
       "      <td>@switchfoot http://twitpic.com/2y1zl - Awww, t...</td>\n",
       "      <td>awww thats bummer shoulda got david carr third...</td>\n",
       "    </tr>\n",
       "    <tr>\n",
       "      <th>1</th>\n",
       "      <td>0.0</td>\n",
       "      <td>is upset that he can't update his Facebook by ...</td>\n",
       "      <td>upset cant update facebook texting might cry r...</td>\n",
       "    </tr>\n",
       "    <tr>\n",
       "      <th>2</th>\n",
       "      <td>0.0</td>\n",
       "      <td>@Kenichan I dived many times for the ball. Man...</td>\n",
       "      <td>dived many times ball managed save rest go bounds</td>\n",
       "    </tr>\n",
       "    <tr>\n",
       "      <th>3</th>\n",
       "      <td>1.0</td>\n",
       "      <td>my whole body feels itchy and like its on fire</td>\n",
       "      <td>whole body feels itchy like fire</td>\n",
       "    </tr>\n",
       "    <tr>\n",
       "      <th>4</th>\n",
       "      <td>0.0</td>\n",
       "      <td>@nationwideclass no, it's not behaving at all....</td>\n",
       "      <td>behaving im mad cant see</td>\n",
       "    </tr>\n",
       "  </tbody>\n",
       "</table>\n",
       "</div>"
      ],
      "text/plain": [
       "   label                                               text  \\\n",
       "0    1.0  @switchfoot http://twitpic.com/2y1zl - Awww, t...   \n",
       "1    0.0  is upset that he can't update his Facebook by ...   \n",
       "2    0.0  @Kenichan I dived many times for the ball. Man...   \n",
       "3    1.0    my whole body feels itchy and like its on fire    \n",
       "4    0.0  @nationwideclass no, it's not behaving at all....   \n",
       "\n",
       "                                          clean_text  \n",
       "0  awww thats bummer shoulda got david carr third...  \n",
       "1  upset cant update facebook texting might cry r...  \n",
       "2  dived many times ball managed save rest go bounds  \n",
       "3                   whole body feels itchy like fire  \n",
       "4                           behaving im mad cant see  "
      ]
     },
     "execution_count": 21,
     "metadata": {},
     "output_type": "execute_result"
    }
   ],
   "source": [
    "df.head()"
   ]
  },
  {
   "cell_type": "code",
   "execution_count": 19,
   "metadata": {},
   "outputs": [],
   "source": [
    "import os\n",
    "\n",
    "folder_path = \"D:\\Project\\Sentiment_Analysis\\Dataset\\pre_processed\"  # Change this to your preferred folder\n",
    "file_name = \"Sentiment140_dataset_with_neutal&cleantext.csv\"\n",
    "\n",
    "# ✅ Ensure the folder exists\n",
    "os.makedirs(folder_path, exist_ok=True)  # Creates the folder if it doesn't exist\n",
    "\n",
    "# Save the file\n",
    "df.to_csv(os.path.join(folder_path, file_name), index=False)\n"
   ]
  },
  {
   "cell_type": "code",
   "execution_count": 2,
   "metadata": {},
   "outputs": [],
   "source": [
    "df = pd.read_csv(\"D:/Project/Sentiment_Analysis/Dataset/pre_processed/Sentiment140_dataset_with_neutal&cleantext.csv\")"
   ]
  },
  {
   "cell_type": "code",
   "execution_count": 4,
   "metadata": {},
   "outputs": [
    {
     "data": {
      "text/html": [
       "<div>\n",
       "<style scoped>\n",
       "    .dataframe tbody tr th:only-of-type {\n",
       "        vertical-align: middle;\n",
       "    }\n",
       "\n",
       "    .dataframe tbody tr th {\n",
       "        vertical-align: top;\n",
       "    }\n",
       "\n",
       "    .dataframe thead th {\n",
       "        text-align: right;\n",
       "    }\n",
       "</style>\n",
       "<table border=\"1\" class=\"dataframe\">\n",
       "  <thead>\n",
       "    <tr style=\"text-align: right;\">\n",
       "      <th></th>\n",
       "      <th>label</th>\n",
       "      <th>text</th>\n",
       "      <th>clean_text</th>\n",
       "    </tr>\n",
       "  </thead>\n",
       "  <tbody>\n",
       "    <tr>\n",
       "      <th>0</th>\n",
       "      <td>1.0</td>\n",
       "      <td>@switchfoot http://twitpic.com/2y1zl - Awww, t...</td>\n",
       "      <td>awww thats bummer shoulda got david carr third...</td>\n",
       "    </tr>\n",
       "    <tr>\n",
       "      <th>1</th>\n",
       "      <td>0.0</td>\n",
       "      <td>is upset that he can't update his Facebook by ...</td>\n",
       "      <td>upset cant update facebook texting might cry r...</td>\n",
       "    </tr>\n",
       "    <tr>\n",
       "      <th>2</th>\n",
       "      <td>0.0</td>\n",
       "      <td>@Kenichan I dived many times for the ball. Man...</td>\n",
       "      <td>dived many times ball managed save rest go bounds</td>\n",
       "    </tr>\n",
       "    <tr>\n",
       "      <th>3</th>\n",
       "      <td>1.0</td>\n",
       "      <td>my whole body feels itchy and like its on fire</td>\n",
       "      <td>whole body feels itchy like fire</td>\n",
       "    </tr>\n",
       "    <tr>\n",
       "      <th>4</th>\n",
       "      <td>0.0</td>\n",
       "      <td>@nationwideclass no, it's not behaving at all....</td>\n",
       "      <td>behaving im mad cant see</td>\n",
       "    </tr>\n",
       "    <tr>\n",
       "      <th>5</th>\n",
       "      <td>1.0</td>\n",
       "      <td>@Kwesidei not the whole crew</td>\n",
       "      <td>whole crew</td>\n",
       "    </tr>\n",
       "    <tr>\n",
       "      <th>6</th>\n",
       "      <td>0.0</td>\n",
       "      <td>Need a hug</td>\n",
       "      <td>need hug</td>\n",
       "    </tr>\n",
       "    <tr>\n",
       "      <th>7</th>\n",
       "      <td>0.0</td>\n",
       "      <td>@LOLTrish hey  long time no see! Yes.. Rains a...</td>\n",
       "      <td>hey long time see yes rains bit bit lol im fin...</td>\n",
       "    </tr>\n",
       "    <tr>\n",
       "      <th>8</th>\n",
       "      <td>1.0</td>\n",
       "      <td>@Tatiana_K nope they didn't have it</td>\n",
       "      <td>nope didnt</td>\n",
       "    </tr>\n",
       "    <tr>\n",
       "      <th>9</th>\n",
       "      <td>1.0</td>\n",
       "      <td>@twittera que me muera ?</td>\n",
       "      <td>que muera</td>\n",
       "    </tr>\n",
       "    <tr>\n",
       "      <th>10</th>\n",
       "      <td>1.0</td>\n",
       "      <td>spring break in plain city... it's snowing</td>\n",
       "      <td>spring break plain city snowing</td>\n",
       "    </tr>\n",
       "    <tr>\n",
       "      <th>11</th>\n",
       "      <td>1.0</td>\n",
       "      <td>I just re-pierced my ears</td>\n",
       "      <td>repierced ears</td>\n",
       "    </tr>\n",
       "    <tr>\n",
       "      <th>12</th>\n",
       "      <td>0.0</td>\n",
       "      <td>@caregiving I couldn't bear to watch it.  And ...</td>\n",
       "      <td>couldnt bear watch thought ua loss embarrassing</td>\n",
       "    </tr>\n",
       "    <tr>\n",
       "      <th>13</th>\n",
       "      <td>1.0</td>\n",
       "      <td>@octolinz16 It it counts, idk why I did either...</td>\n",
       "      <td>counts idk either never talk anymore</td>\n",
       "    </tr>\n",
       "    <tr>\n",
       "      <th>14</th>\n",
       "      <td>0.0</td>\n",
       "      <td>@smarrison i would've been the first, but i di...</td>\n",
       "      <td>wouldve first didnt gun really though zac snyd...</td>\n",
       "    </tr>\n",
       "    <tr>\n",
       "      <th>15</th>\n",
       "      <td>0.0</td>\n",
       "      <td>@iamjazzyfizzle I wish I got to watch it with ...</td>\n",
       "      <td>wish got watch miss premiere</td>\n",
       "    </tr>\n",
       "    <tr>\n",
       "      <th>16</th>\n",
       "      <td>0.0</td>\n",
       "      <td>Hollis' death scene will hurt me severely to w...</td>\n",
       "      <td>hollis death scene hurt severely watch film wr...</td>\n",
       "    </tr>\n",
       "    <tr>\n",
       "      <th>17</th>\n",
       "      <td>1.0</td>\n",
       "      <td>about to file taxes</td>\n",
       "      <td>file taxes</td>\n",
       "    </tr>\n",
       "    <tr>\n",
       "      <th>18</th>\n",
       "      <td>0.0</td>\n",
       "      <td>@LettyA ahh ive always wanted to see rent  lov...</td>\n",
       "      <td>ahh ive always wanted see rent love soundtrack</td>\n",
       "    </tr>\n",
       "    <tr>\n",
       "      <th>19</th>\n",
       "      <td>1.0</td>\n",
       "      <td>@FakerPattyPattz Oh dear. Were you drinking ou...</td>\n",
       "      <td>oh dear drinking forgotten table drinks</td>\n",
       "    </tr>\n",
       "    <tr>\n",
       "      <th>20</th>\n",
       "      <td>1.0</td>\n",
       "      <td>@alydesigns i was out most of the day so didn'...</td>\n",
       "      <td>day didnt get much done</td>\n",
       "    </tr>\n",
       "    <tr>\n",
       "      <th>21</th>\n",
       "      <td>1.0</td>\n",
       "      <td>one of my friend called me, and asked to meet ...</td>\n",
       "      <td>one friend called asked meet mid valley todayb...</td>\n",
       "    </tr>\n",
       "    <tr>\n",
       "      <th>22</th>\n",
       "      <td>1.0</td>\n",
       "      <td>@angry_barista I baked you a cake but I ated it</td>\n",
       "      <td>baked cake ated</td>\n",
       "    </tr>\n",
       "    <tr>\n",
       "      <th>23</th>\n",
       "      <td>0.0</td>\n",
       "      <td>this week is not going as i had hoped</td>\n",
       "      <td>week going hoped</td>\n",
       "    </tr>\n",
       "    <tr>\n",
       "      <th>24</th>\n",
       "      <td>1.0</td>\n",
       "      <td>blagh class at 8 tomorrow</td>\n",
       "      <td>blagh class tomorrow</td>\n",
       "    </tr>\n",
       "    <tr>\n",
       "      <th>25</th>\n",
       "      <td>0.0</td>\n",
       "      <td>I hate when I have to call and wake people up</td>\n",
       "      <td>hate call wake people</td>\n",
       "    </tr>\n",
       "    <tr>\n",
       "      <th>26</th>\n",
       "      <td>0.0</td>\n",
       "      <td>Just going to cry myself to sleep after watchi...</td>\n",
       "      <td>going cry sleep watching marley</td>\n",
       "    </tr>\n",
       "    <tr>\n",
       "      <th>27</th>\n",
       "      <td>0.0</td>\n",
       "      <td>im sad now  Miss.Lilly</td>\n",
       "      <td>im sad misslilly</td>\n",
       "    </tr>\n",
       "    <tr>\n",
       "      <th>28</th>\n",
       "      <td>0.0</td>\n",
       "      <td>ooooh.... LOL  that leslie.... and ok I won't ...</td>\n",
       "      <td>ooooh lol leslie ok wont leslie wont get mad</td>\n",
       "    </tr>\n",
       "    <tr>\n",
       "      <th>29</th>\n",
       "      <td>1.0</td>\n",
       "      <td>Meh... Almost Lover is the exception... this t...</td>\n",
       "      <td>meh almost lover exception track gets depresse...</td>\n",
       "    </tr>\n",
       "    <tr>\n",
       "      <th>30</th>\n",
       "      <td>0.0</td>\n",
       "      <td>some1 hacked my account on aim  now i have to ...</td>\n",
       "      <td>hacked account aim make new one</td>\n",
       "    </tr>\n",
       "    <tr>\n",
       "      <th>31</th>\n",
       "      <td>1.0</td>\n",
       "      <td>@alielayus I want to go to promote GEAR AND GR...</td>\n",
       "      <td>want go promote gear groove unfornately ride m...</td>\n",
       "    </tr>\n",
       "    <tr>\n",
       "      <th>32</th>\n",
       "      <td>1.0</td>\n",
       "      <td>thought sleeping in was an option tomorrow but...</td>\n",
       "      <td>thought sleeping option tomorrow realizing eva...</td>\n",
       "    </tr>\n",
       "    <tr>\n",
       "      <th>33</th>\n",
       "      <td>0.0</td>\n",
       "      <td>@julieebaby awe i love you too!!!! 1 am here  ...</td>\n",
       "      <td>awe love miss</td>\n",
       "    </tr>\n",
       "    <tr>\n",
       "      <th>34</th>\n",
       "      <td>0.0</td>\n",
       "      <td>@HumpNinja I cry my asian eyes to sleep at night</td>\n",
       "      <td>cry asian eyes sleep night</td>\n",
       "    </tr>\n",
       "    <tr>\n",
       "      <th>35</th>\n",
       "      <td>0.0</td>\n",
       "      <td>ok I'm sick and spent an hour sitting in the s...</td>\n",
       "      <td>ok im sick spent hour sitting shower cause sic...</td>\n",
       "    </tr>\n",
       "    <tr>\n",
       "      <th>36</th>\n",
       "      <td>0.0</td>\n",
       "      <td>@cocomix04 ill tell ya the story later  not a ...</td>\n",
       "      <td>ill tell ya story later good day ill workin li...</td>\n",
       "    </tr>\n",
       "    <tr>\n",
       "      <th>37</th>\n",
       "      <td>1.0</td>\n",
       "      <td>@MissXu sorry! bed time came here (GMT+1)   ht...</td>\n",
       "      <td>sorry bed time came gmt</td>\n",
       "    </tr>\n",
       "    <tr>\n",
       "      <th>38</th>\n",
       "      <td>0.0</td>\n",
       "      <td>@fleurylis I don't either. Its depressing. I d...</td>\n",
       "      <td>dont either depressing dont think even want kn...</td>\n",
       "    </tr>\n",
       "    <tr>\n",
       "      <th>39</th>\n",
       "      <td>1.0</td>\n",
       "      <td>Bed. Class 8-12. Work 12-3. Gym 3-5 or 6. Then...</td>\n",
       "      <td>bed class work gym class another day thats gon...</td>\n",
       "    </tr>\n",
       "    <tr>\n",
       "      <th>40</th>\n",
       "      <td>1.0</td>\n",
       "      <td>really don't feel like getting up today... but...</td>\n",
       "      <td>really dont feel like getting today got study ...</td>\n",
       "    </tr>\n",
       "    <tr>\n",
       "      <th>41</th>\n",
       "      <td>0.0</td>\n",
       "      <td>He's the reason for the teardrops on my guitar...</td>\n",
       "      <td>hes reason teardrops guitar one enough break h...</td>\n",
       "    </tr>\n",
       "    <tr>\n",
       "      <th>42</th>\n",
       "      <td>0.0</td>\n",
       "      <td>Sad, sad, sad. I don't know why but I hate thi...</td>\n",
       "      <td>sad sad sad dont know hate feeling wanna sleep...</td>\n",
       "    </tr>\n",
       "    <tr>\n",
       "      <th>43</th>\n",
       "      <td>1.0</td>\n",
       "      <td>@JonathanRKnight Awww I soo wish I was there t...</td>\n",
       "      <td>awww soo wish see finally comfortable im sad m...</td>\n",
       "    </tr>\n",
       "    <tr>\n",
       "      <th>44</th>\n",
       "      <td>1.0</td>\n",
       "      <td>Falling asleep. Just heard about that Tracy gi...</td>\n",
       "      <td>falling asleep heard tracy girls body found sa...</td>\n",
       "    </tr>\n",
       "    <tr>\n",
       "      <th>45</th>\n",
       "      <td>0.0</td>\n",
       "      <td>@Viennah Yay! I'm happy for you with your job!...</td>\n",
       "      <td>yay im happy job also means less time</td>\n",
       "    </tr>\n",
       "    <tr>\n",
       "      <th>46</th>\n",
       "      <td>0.0</td>\n",
       "      <td>Just checked my user timeline on my blackberry...</td>\n",
       "      <td>checked user timeline blackberry looks like tw...</td>\n",
       "    </tr>\n",
       "    <tr>\n",
       "      <th>47</th>\n",
       "      <td>0.0</td>\n",
       "      <td>Oh man...was ironing @jeancjumbe's fave top to...</td>\n",
       "      <td>oh manwas ironing fave top wear meeting burnt</td>\n",
       "    </tr>\n",
       "    <tr>\n",
       "      <th>48</th>\n",
       "      <td>0.0</td>\n",
       "      <td>is strangely sad about LiLo and SamRo breaking...</td>\n",
       "      <td>strangely sad lilo samro breaking</td>\n",
       "    </tr>\n",
       "    <tr>\n",
       "      <th>49</th>\n",
       "      <td>0.0</td>\n",
       "      <td>@tea oh! i'm so sorry  i didn't think about th...</td>\n",
       "      <td>oh im sorry didnt think retweeting</td>\n",
       "    </tr>\n",
       "  </tbody>\n",
       "</table>\n",
       "</div>"
      ],
      "text/plain": [
       "    label                                               text  \\\n",
       "0     1.0  @switchfoot http://twitpic.com/2y1zl - Awww, t...   \n",
       "1     0.0  is upset that he can't update his Facebook by ...   \n",
       "2     0.0  @Kenichan I dived many times for the ball. Man...   \n",
       "3     1.0    my whole body feels itchy and like its on fire    \n",
       "4     0.0  @nationwideclass no, it's not behaving at all....   \n",
       "5     1.0                      @Kwesidei not the whole crew    \n",
       "6     0.0                                        Need a hug    \n",
       "7     0.0  @LOLTrish hey  long time no see! Yes.. Rains a...   \n",
       "8     1.0               @Tatiana_K nope they didn't have it    \n",
       "9     1.0                          @twittera que me muera ?    \n",
       "10    1.0        spring break in plain city... it's snowing    \n",
       "11    1.0                         I just re-pierced my ears    \n",
       "12    0.0  @caregiving I couldn't bear to watch it.  And ...   \n",
       "13    1.0  @octolinz16 It it counts, idk why I did either...   \n",
       "14    0.0  @smarrison i would've been the first, but i di...   \n",
       "15    0.0  @iamjazzyfizzle I wish I got to watch it with ...   \n",
       "16    0.0  Hollis' death scene will hurt me severely to w...   \n",
       "17    1.0                               about to file taxes    \n",
       "18    0.0  @LettyA ahh ive always wanted to see rent  lov...   \n",
       "19    1.0  @FakerPattyPattz Oh dear. Were you drinking ou...   \n",
       "20    1.0  @alydesigns i was out most of the day so didn'...   \n",
       "21    1.0  one of my friend called me, and asked to meet ...   \n",
       "22    1.0   @angry_barista I baked you a cake but I ated it    \n",
       "23    0.0             this week is not going as i had hoped    \n",
       "24    1.0                         blagh class at 8 tomorrow    \n",
       "25    0.0     I hate when I have to call and wake people up    \n",
       "26    0.0  Just going to cry myself to sleep after watchi...   \n",
       "27    0.0                             im sad now  Miss.Lilly   \n",
       "28    0.0  ooooh.... LOL  that leslie.... and ok I won't ...   \n",
       "29    1.0  Meh... Almost Lover is the exception... this t...   \n",
       "30    0.0  some1 hacked my account on aim  now i have to ...   \n",
       "31    1.0  @alielayus I want to go to promote GEAR AND GR...   \n",
       "32    1.0  thought sleeping in was an option tomorrow but...   \n",
       "33    0.0  @julieebaby awe i love you too!!!! 1 am here  ...   \n",
       "34    0.0  @HumpNinja I cry my asian eyes to sleep at night    \n",
       "35    0.0  ok I'm sick and spent an hour sitting in the s...   \n",
       "36    0.0  @cocomix04 ill tell ya the story later  not a ...   \n",
       "37    1.0  @MissXu sorry! bed time came here (GMT+1)   ht...   \n",
       "38    0.0  @fleurylis I don't either. Its depressing. I d...   \n",
       "39    1.0  Bed. Class 8-12. Work 12-3. Gym 3-5 or 6. Then...   \n",
       "40    1.0  really don't feel like getting up today... but...   \n",
       "41    0.0  He's the reason for the teardrops on my guitar...   \n",
       "42    0.0  Sad, sad, sad. I don't know why but I hate thi...   \n",
       "43    1.0  @JonathanRKnight Awww I soo wish I was there t...   \n",
       "44    1.0  Falling asleep. Just heard about that Tracy gi...   \n",
       "45    0.0  @Viennah Yay! I'm happy for you with your job!...   \n",
       "46    0.0  Just checked my user timeline on my blackberry...   \n",
       "47    0.0  Oh man...was ironing @jeancjumbe's fave top to...   \n",
       "48    0.0  is strangely sad about LiLo and SamRo breaking...   \n",
       "49    0.0  @tea oh! i'm so sorry  i didn't think about th...   \n",
       "\n",
       "                                           clean_text  \n",
       "0   awww thats bummer shoulda got david carr third...  \n",
       "1   upset cant update facebook texting might cry r...  \n",
       "2   dived many times ball managed save rest go bounds  \n",
       "3                    whole body feels itchy like fire  \n",
       "4                            behaving im mad cant see  \n",
       "5                                          whole crew  \n",
       "6                                            need hug  \n",
       "7   hey long time see yes rains bit bit lol im fin...  \n",
       "8                                          nope didnt  \n",
       "9                                           que muera  \n",
       "10                    spring break plain city snowing  \n",
       "11                                     repierced ears  \n",
       "12    couldnt bear watch thought ua loss embarrassing  \n",
       "13               counts idk either never talk anymore  \n",
       "14  wouldve first didnt gun really though zac snyd...  \n",
       "15                       wish got watch miss premiere  \n",
       "16  hollis death scene hurt severely watch film wr...  \n",
       "17                                         file taxes  \n",
       "18     ahh ive always wanted see rent love soundtrack  \n",
       "19            oh dear drinking forgotten table drinks  \n",
       "20                            day didnt get much done  \n",
       "21  one friend called asked meet mid valley todayb...  \n",
       "22                                    baked cake ated  \n",
       "23                                   week going hoped  \n",
       "24                               blagh class tomorrow  \n",
       "25                              hate call wake people  \n",
       "26                    going cry sleep watching marley  \n",
       "27                                   im sad misslilly  \n",
       "28       ooooh lol leslie ok wont leslie wont get mad  \n",
       "29  meh almost lover exception track gets depresse...  \n",
       "30                    hacked account aim make new one  \n",
       "31  want go promote gear groove unfornately ride m...  \n",
       "32  thought sleeping option tomorrow realizing eva...  \n",
       "33                                      awe love miss  \n",
       "34                         cry asian eyes sleep night  \n",
       "35  ok im sick spent hour sitting shower cause sic...  \n",
       "36  ill tell ya story later good day ill workin li...  \n",
       "37                            sorry bed time came gmt  \n",
       "38  dont either depressing dont think even want kn...  \n",
       "39  bed class work gym class another day thats gon...  \n",
       "40  really dont feel like getting today got study ...  \n",
       "41  hes reason teardrops guitar one enough break h...  \n",
       "42  sad sad sad dont know hate feeling wanna sleep...  \n",
       "43  awww soo wish see finally comfortable im sad m...  \n",
       "44  falling asleep heard tracy girls body found sa...  \n",
       "45              yay im happy job also means less time  \n",
       "46  checked user timeline blackberry looks like tw...  \n",
       "47      oh manwas ironing fave top wear meeting burnt  \n",
       "48                  strangely sad lilo samro breaking  \n",
       "49                 oh im sorry didnt think retweeting  "
      ]
     },
     "execution_count": 4,
     "metadata": {},
     "output_type": "execute_result"
    }
   ],
   "source": [
    "df.head(50)"
   ]
  },
  {
   "cell_type": "code",
   "execution_count": null,
   "metadata": {},
   "outputs": [],
   "source": []
  },
  {
   "cell_type": "code",
   "execution_count": 23,
   "metadata": {},
   "outputs": [
    {
     "name": "stdout",
     "output_type": "stream",
     "text": [
      "[[  354    43  1089  3308    14   753  9596  1728     4     0     0     0\n",
      "      0     0     0     0     0     0     0     0     0     0     0     0\n",
      "      0     0     0     0     0     0     0     0     0     0     0     0\n",
      "      0     0     0     0     0     0     0     0     0     0     0     0\n",
      "      0     0]\n",
      " [  663    13   433   437  1887   191   417  2162    74     9   170  1069\n",
      "      0     0     0     0     0     0     0     0     0     0     0     0\n",
      "      0     0     0     0     0     0     0     0     0     0     0     0\n",
      "      0     0     0     0     0     0     0     0     0     0     0     0\n",
      "      0     0]\n",
      " [    1   212   248  1212  1500   781   362     7     1     0     0     0\n",
      "      0     0     0     0     0     0     0     0     0     0     0     0\n",
      "      0     0     0     0     0     0     0     0     0     0     0     0\n",
      "      0     0     0     0     0     0     0     0     0     0     0     0\n",
      "      0     0]\n",
      " [  320   703   370  2751     6  1047     0     0     0     0     0     0\n",
      "      0     0     0     0     0     0     0     0     0     0     0     0\n",
      "      0     0     0     0     0     0     0     0     0     0     0     0\n",
      "      0     0     0     0     0     0     0     0     0     0     0     0\n",
      "      0     0]\n",
      " [10187     2   481    13    22     0     0     0     0     0     0     0\n",
      "      0     0     0     0     0     0     0     0     0     0     0     0\n",
      "      0     0     0     0     0     0     0     0     0     0     0     0\n",
      "      0     0     0     0     0     0     0     0     0     0     0     0\n",
      "      0     0]\n",
      " [  320  2039     0     0     0     0     0     0     0     0     0     0\n",
      "      0     0     0     0     0     0     0     0     0     0     0     0\n",
      "      0     0     0     0     0     0     0     0     0     0     0     0\n",
      "      0     0     0     0     0     0     0     0     0     0     0     0\n",
      "      0     0]\n",
      " [   35   793     0     0     0     0     0     0     0     0     0     0\n",
      "      0     0     0     0     0     0     0     0     0     0     0     0\n",
      "      0     0     0     0     0     0     0     0     0     0     0     0\n",
      "      0     0     0     0     0     0     0     0     0     0     0     0\n",
      "      0     0]\n",
      " [   78    88    15    22    81  2370   156   156    17     2   416    30\n",
      "    681     0     0     0     0     0     0     0     0     0     0     0\n",
      "      0     0     0     0     0     0     0     0     0     0     0     0\n",
      "      0     0     0     0     0     0     0     0     0     0     0     0\n",
      "      0     0]\n",
      " [  687    50     0     0     0     0     0     0     0     0     0     0\n",
      "      0     0     0     0     0     0     0     0     0     0     0     0\n",
      "      0     0     0     0     0     0     0     0     0     0     0     0\n",
      "      0     0     0     0     0     0     0     0     0     0     0     0\n",
      "      0     0]\n",
      " [ 2324     1     0     0     0     0     0     0     0     0     0     0\n",
      "      0     0     0     0     0     0     0     0     0     0     0     0\n",
      "      0     0     0     0     0     0     0     0     0     0     0     0\n",
      "      0     0     0     0     0     0     0     0     0     0     0     0\n",
      "      0     0]]\n"
     ]
    }
   ],
   "source": [
    "# tokenizer is used to convert text data into numerical data\n",
    "# pad_sequences is used to make all the text data of same length\n",
    "\n",
    "from tensorflow.keras.preprocessing.text import Tokenizer\n",
    "from tensorflow.keras.preprocessing.sequence import pad_sequences\n",
    "\n",
    "VOCAB_SIZE = 20000\n",
    "max_length = 50\n",
    "\n",
    "tokenizer = Tokenizer(num_words=VOCAB_SIZE, oov_token=\"<oov>\")\n",
    "tokenizer.fit_on_texts(df['clean_text'])\n",
    "\n",
    "sequences = tokenizer.texts_to_sequences(df['clean_text'])\n",
    "\n",
    "padded_sequences = pad_sequences(sequences, maxlen=max_length, padding='post')\n",
    "\n",
    "print(padded_sequences[:10])\n"
   ]
  },
  {
   "cell_type": "code",
   "execution_count": 20,
   "metadata": {},
   "outputs": [
    {
     "name": "stdout",
     "output_type": "stream",
     "text": [
      "Tokenizer saved successfully!\n"
     ]
    }
   ],
   "source": [
    "import pickle\n",
    "\n",
    "# Save the tokenizer for laster use\n",
    "with open(\"D:/Project/Sentiment_Analysis/Model/tokenizer.pkl\", \"wb\") as handle:\n",
    "    pickle.dump(tokenizer, handle)\n",
    "\n",
    "print(\"Tokenizer saved successfully!\")\n"
   ]
  },
  {
   "cell_type": "code",
   "execution_count": 24,
   "metadata": {},
   "outputs": [
    {
     "data": {
      "text/plain": [
       "1.0    589963\n",
       "2.0    527432\n",
       "0.0    482605\n",
       "Name: label, dtype: int64"
      ]
     },
     "execution_count": 24,
     "metadata": {},
     "output_type": "execute_result"
    }
   ],
   "source": [
    "df[\"label\"].value_counts()"
   ]
  },
  {
   "cell_type": "code",
   "execution_count": 25,
   "metadata": {},
   "outputs": [
    {
     "name": "stdout",
     "output_type": "stream",
     "text": [
      "GloVe Twitter embeddings loaded successfully!\n"
     ]
    }
   ],
   "source": [
    "# gensim is used to load pre-trained word embeddings\n",
    "# It converts words into meaningful numerical vectors based on real-world context.\n",
    "\n",
    "\n",
    "from tensorflow.keras.layers import Embedding, LSTM, Dense\n",
    "import gensim.downloader as api\n",
    "\n",
    "# Load pre-trained GloVe Twitter embeddings (100-dimensional)\n",
    "embedding_model = api.load(\"glove-twitter-100\")\n",
    "embedding_dim = 100\n",
    "\n",
    "print(\"GloVe Twitter embeddings loaded successfully!\")"
   ]
  },
  {
   "cell_type": "code",
   "execution_count": 26,
   "metadata": {},
   "outputs": [],
   "source": [
    "# Create an embedding matrix for our vocabulary\n",
    "from tensorflow.keras.preprocessing.text import Tokenizer\n",
    "\n",
    "#word_index = Tokenizer.word_index\n",
    "embedding_matrix = np.zeros((VOCAB_SIZE, embedding_dim))\n",
    "\n",
    "for word, i in tokenizer.word_index.items():\n",
    "    if i < VOCAB_SIZE and word in embedding_model:\n",
    "        embedding_matrix[i] = embedding_model[word]\n"
   ]
  },
  {
   "cell_type": "code",
   "execution_count": 27,
   "metadata": {},
   "outputs": [
    {
     "name": "stdout",
     "output_type": "stream",
     "text": [
      "Training Size: (1120000, 50), Testing Size: (480000, 50)\n"
     ]
    }
   ],
   "source": [
    "X = padded_sequences\n",
    "Y = df['label'].values\n",
    "\n",
    "X_train, X_test, Y_train, Y_test = train_test_split(X, Y, test_size=0.3, random_state=1, stratify=Y)\n",
    "\n",
    "print(f\"Training Size: {X_train.shape}, Testing Size: {X_test.shape}\")"
   ]
  },
  {
   "cell_type": "code",
   "execution_count": 28,
   "metadata": {},
   "outputs": [
    {
     "name": "stdout",
     "output_type": "stream",
     "text": [
      "[2. 1. 2. 2. 0.]\n"
     ]
    }
   ],
   "source": [
    "print(Y_train[:5])"
   ]
  },
  {
   "cell_type": "code",
   "execution_count": 29,
   "metadata": {},
   "outputs": [],
   "source": [
    "# Convert labels to categorical (One-Hot Encoding for 3 classes)\n",
    "Y_train = tf.keras.utils.to_categorical(Y_train, num_classes=3)\n",
    "Y_test = tf.keras.utils.to_categorical(Y_test, num_classes=3)"
   ]
  },
  {
   "cell_type": "code",
   "execution_count": 30,
   "metadata": {},
   "outputs": [
    {
     "name": "stdout",
     "output_type": "stream",
     "text": [
      "[[0. 0. 1.]\n",
      " [0. 1. 0.]\n",
      " [0. 0. 1.]\n",
      " [0. 0. 1.]\n",
      " [1. 0. 0.]]\n"
     ]
    }
   ],
   "source": [
    "print(Y_train[:5])"
   ]
  },
  {
   "cell_type": "code",
   "execution_count": 31,
   "metadata": {},
   "outputs": [
    {
     "name": "stdout",
     "output_type": "stream",
     "text": [
      "[[1. 0. 0.]\n",
      " [0. 1. 0.]\n",
      " [0. 0. 1.]\n",
      " [0. 1. 0.]\n",
      " [0. 0. 1.]]\n"
     ]
    }
   ],
   "source": [
    "print(Y_test[:5])"
   ]
  },
  {
   "cell_type": "markdown",
   "metadata": {},
   "source": [
    "Model training"
   ]
  },
  {
   "cell_type": "markdown",
   "metadata": {},
   "source": [
    "LSTM Model(Long Short-Term Memory)"
   ]
  },
  {
   "cell_type": "code",
   "execution_count": 32,
   "metadata": {},
   "outputs": [],
   "source": [
    "from tensorflow.keras.models import Sequential\n",
    "from tensorflow.keras.layers import Embedding, LSTM, Dense, Dropout"
   ]
  },
  {
   "cell_type": "code",
   "execution_count": 33,
   "metadata": {},
   "outputs": [],
   "source": [
    "lstm_model = Sequential([\n",
    "    Embedding(input_dim=VOCAB_SIZE, output_dim=embedding_dim, \n",
    "              weights=[embedding_matrix], input_length=max_length, trainable=False),\n",
    "    LSTM(128, return_sequences=True),\n",
    "    Dropout(0.2),\n",
    "    LSTM(64),\n",
    "    Dense(32, activation='relu'),\n",
    "    Dropout(0.2),\n",
    "    Dense(3, activation='softmax')  \n",
    "])"
   ]
  },
  {
   "cell_type": "code",
   "execution_count": 34,
   "metadata": {},
   "outputs": [],
   "source": [
    "lstm_model.compile(optimizer='adam', loss='categorical_crossentropy', metrics=['accuracy'])"
   ]
  },
  {
   "cell_type": "code",
   "execution_count": 35,
   "metadata": {},
   "outputs": [
    {
     "name": "stdout",
     "output_type": "stream",
     "text": [
      "Class Weights: {0: 1.1051119320514036, 1: 0.9040117134089152, 2: 1.0111898996574593}\n"
     ]
    }
   ],
   "source": [
    "# to overcome classimbalance we use class_weight\n",
    "# class_weight is used to give more weightage to minority class\n",
    "from sklearn.utils.class_weight import compute_class_weight \n",
    "\n",
    "\n",
    "# Convert one-hot encoding to class labels (0, 1, 2)\n",
    "Y_train_labels = np.argmax(Y_train, axis=1)\n",
    "\n",
    "class_labels = np.unique(Y_train_labels)\n",
    "\n",
    "class_weights = compute_class_weight('balanced', classes=class_labels, y=Y_train_labels)\n",
    "\n",
    "# Convert to dictionary\n",
    "class_weight_dict = {class_labels[i]: class_weights[i] for i in range(len(class_weights))}\n",
    "print(\"Class Weights:\", class_weight_dict)"
   ]
  },
  {
   "cell_type": "code",
   "execution_count": 37,
   "metadata": {},
   "outputs": [
    {
     "name": "stdout",
     "output_type": "stream",
     "text": [
      "Epoch 1/10\n",
      "7875/7875 [==============================] - 119s 15ms/step - loss: 0.6074 - accuracy: 0.7784 - val_loss: 0.5300 - val_accuracy: 0.7877\n",
      "Epoch 2/10\n",
      "7875/7875 [==============================] - 142s 18ms/step - loss: 0.5797 - accuracy: 0.7905 - val_loss: 0.5253 - val_accuracy: 0.7905\n",
      "Epoch 3/10\n",
      "7875/7875 [==============================] - 121s 15ms/step - loss: 0.5624 - accuracy: 0.7976 - val_loss: 0.5146 - val_accuracy: 0.7954\n",
      "Epoch 4/10\n",
      "7875/7875 [==============================] - 111s 14ms/step - loss: 0.5494 - accuracy: 0.8031 - val_loss: 0.5063 - val_accuracy: 0.7983\n",
      "Epoch 5/10\n",
      "7875/7875 [==============================] - 112s 14ms/step - loss: 0.5388 - accuracy: 0.8075 - val_loss: 0.5091 - val_accuracy: 0.7946\n",
      "Epoch 6/10\n",
      "7875/7875 [==============================] - 114s 14ms/step - loss: 0.5303 - accuracy: 0.8111 - val_loss: 0.5029 - val_accuracy: 0.8008\n",
      "Epoch 7/10\n",
      "7875/7875 [==============================] - 114s 14ms/step - loss: 0.5222 - accuracy: 0.8142 - val_loss: 0.5152 - val_accuracy: 0.7946\n",
      "Epoch 8/10\n",
      "7875/7875 [==============================] - 114s 14ms/step - loss: 0.5146 - accuracy: 0.8174 - val_loss: 0.5109 - val_accuracy: 0.7992\n",
      "Epoch 9/10\n",
      "7875/7875 [==============================] - 112s 14ms/step - loss: 0.5079 - accuracy: 0.8201 - val_loss: 0.5086 - val_accuracy: 0.8006\n"
     ]
    }
   ],
   "source": [
    "from tensorflow.keras.callbacks import EarlyStopping\n",
    "\n",
    "# Define Early Stopping\n",
    "early_stop = EarlyStopping(monitor='val_loss', patience=3, restore_best_weights=True)\n",
    "\n",
    "# Train the LSTM Model with Class Weights & Early Stopping\n",
    "lstm_history=lstm_model.fit(\n",
    "    X_train, Y_train,\n",
    "    validation_split=0.1,\n",
    "    epochs=10,  # Set high, but early stopping will stop if needed\n",
    "    batch_size=128,\n",
    "    class_weight={0: 1.45, 1: 0.69, 2: 1.17},  # Use computed class weights\n",
    "    callbacks=[early_stop]  # Add early stopping\n",
    ")\n"
   ]
  },
  {
   "cell_type": "code",
   "execution_count": null,
   "metadata": {},
   "outputs": [],
   "source": []
  },
  {
   "cell_type": "code",
   "execution_count": 38,
   "metadata": {},
   "outputs": [
    {
     "name": "stdout",
     "output_type": "stream",
     "text": [
      "15000/15000 [==============================] - 95s 6ms/step - loss: 0.5074 - accuracy: 0.8002\n",
      "Test Accuracy: 0.8002\n"
     ]
    }
   ],
   "source": [
    "test_loss, test_acc = lstm_model.evaluate(X_test, Y_test)\n",
    "print(f\"Test Accuracy: {test_acc:.4f}\")"
   ]
  },
  {
   "cell_type": "code",
   "execution_count": 39,
   "metadata": {},
   "outputs": [
    {
     "name": "stdout",
     "output_type": "stream",
     "text": [
      "15000/15000 [==============================] - 83s 6ms/step\n",
      "Classification Report:\n",
      "               precision    recall  f1-score   support\n",
      "\n",
      "           0       0.69      0.78      0.73    144781\n",
      "           1       0.90      0.85      0.87    176989\n",
      "           2       0.80      0.77      0.79    158230\n",
      "\n",
      "    accuracy                           0.80    480000\n",
      "   macro avg       0.80      0.80      0.80    480000\n",
      "weighted avg       0.81      0.80      0.80    480000\n",
      "\n"
     ]
    },
    {
     "data": {
      "image/png": "[encoded data removed]",
      "text/plain": [
       "<Figure size 500x500 with 2 Axes>"
      ]
     },
     "metadata": {},
     "output_type": "display_data"
    }
   ],
   "source": [
    "\n",
    "# Get model predictions\n",
    "# Predictions\n",
    "# Convert Y_test from one-hot encoding to label format\n",
    "Y_test_labels = np.argmax(Y_test, axis=1)\n",
    "\n",
    "lstm_probs = lstm_model.predict(X_test)\n",
    "lstm_preds = np.argmax(lstm_probs, axis=1) \n",
    "\n",
    "# Classification report\n",
    "print(\"Classification Report:\\n\", classification_report(Y_test_labels, lstm_preds))\n",
    "\n",
    "# Confusion Matrix\n",
    "cm = confusion_matrix(Y_test_labels, lstm_preds)\n",
    "plt.figure(figsize=(5,5))\n",
    "sns.heatmap(cm, annot=True, fmt=\"d\", cmap=\"Blues\", xticklabels=['Negative', 'Neutral', 'Positive'], yticklabels=['Negative', 'Neutral', 'Positive'])\n",
    "plt.xlabel(\"Predicted\")\n",
    "plt.ylabel(\"Actual\")\n",
    "plt.title(\"Confusion Matrix\")\n",
    "plt.show()\n"
   ]
  },
  {
   "cell_type": "code",
   "execution_count": 40,
   "metadata": {},
   "outputs": [
    {
     "data": {
      "image/png": "[encoded data removed]",
      "text/plain": [
       "<Figure size 1200x500 with 2 Axes>"
      ]
     },
     "metadata": {},
     "output_type": "display_data"
    }
   ],
   "source": [
    "# Plot Training History\n",
    "plt.figure(figsize=(12, 5))\n",
    "\n",
    "# Accuracy Plot\n",
    "plt.subplot(1, 2, 1)\n",
    "plt.plot(lstm_history.history['accuracy'], label='Train Accuracy')\n",
    "plt.plot(lstm_history.history['val_accuracy'], label='Validation Accuracy')\n",
    "plt.xlabel(\"Epochs\")\n",
    "plt.ylabel(\"Accuracy\")\n",
    "plt.legend()\n",
    "plt.title(\"Model Accuracy\")\n",
    "\n",
    "# Loss Plot\n",
    "plt.subplot(1, 2, 2)\n",
    "plt.plot(lstm_history.history['loss'], label='Train Loss')\n",
    "plt.plot(lstm_history.history['val_loss'], label='Validation Loss')\n",
    "plt.xlabel(\"Epochs\")\n",
    "plt.ylabel(\"Loss\")\n",
    "plt.legend()\n",
    "plt.title(\"Model Loss\")\n",
    "\n",
    "plt.show()\n"
   ]
  },
  {
   "cell_type": "code",
   "execution_count": 41,
   "metadata": {},
   "outputs": [],
   "source": [
    "lstm_model.save(\"D:/Project/Sentiment_Analysis/Model/with_netural_sentiment/lstm_sentiment_model.h5\")"
   ]
  },
  {
   "cell_type": "markdown",
   "metadata": {},
   "source": [
    "MLFLOW LOG"
   ]
  },
  {
   "cell_type": "code",
   "execution_count": 43,
   "metadata": {},
   "outputs": [
    {
     "name": "stderr",
     "output_type": "stream",
     "text": [
      "2025/03/23 14:47:55 WARNING mlflow.tensorflow: You are saving a TensorFlow Core model or Keras model without a signature. Inference with mlflow.pyfunc.spark_udf() will not work unless the model's pyfunc representation accepts pandas DataFrames as inference inputs.\n"
     ]
    },
    {
     "name": "stdout",
     "output_type": "stream",
     "text": [
      "Logging LSTM model...\n"
     ]
    },
    {
     "name": "stderr",
     "output_type": "stream",
     "text": [
      "WARNING:absl:Found untraced functions such as lstm_cell_layer_call_fn, lstm_cell_layer_call_and_return_conditional_losses, lstm_cell_1_layer_call_fn, lstm_cell_1_layer_call_and_return_conditional_losses while saving (showing 4 of 4). These functions will not be directly callable after loading.\n"
     ]
    },
    {
     "name": "stdout",
     "output_type": "stream",
     "text": [
      "INFO:tensorflow:Assets written to: C:\\Users\\loges\\AppData\\Local\\Temp\\tmpogjnhnnc\\model\\data\\model\\assets\n"
     ]
    },
    {
     "name": "stderr",
     "output_type": "stream",
     "text": [
      "INFO:tensorflow:Assets written to: C:\\Users\\loges\\AppData\\Local\\Temp\\tmpogjnhnnc\\model\\data\\model\\assets\n",
      "2025/03/23 14:48:13 WARNING mlflow.utils.environment: Encountered an unexpected error while inferring pip requirements (model URI: C:\\Users\\loges\\AppData\\Local\\Temp\\tmpogjnhnnc\\model, flavor: tensorflow), fall back to return ['tensorflow==2.10.1']. Set logging level to DEBUG to see the full traceback.\n",
      "c:\\Users\\loges\\anaconda3\\envs\\tensorflow_env\\lib\\site-packages\\_distutils_hack\\__init__.py:30: UserWarning: Setuptools is replacing distutils. Support for replacing an already imported distutils is deprecated. In the future, this condition will fail. Register concerns at https://github.com/pypa/setuptools/issues/new?template=distutils-deprecation.yml\n",
      "  warnings.warn(\n"
     ]
    },
    {
     "name": "stdout",
     "output_type": "stream",
     "text": [
      "15000/15000 [==============================] - 100s 7ms/step\n",
      "LSTM model and metrics logged successfully!\n",
      "LSTM model logged Accuracy: 0.8002\n"
     ]
    },
    {
     "data": {
      "image/png": "[encoded data removed]",
      "text/plain": [
       "<Figure size 600x500 with 2 Axes>"
      ]
     },
     "metadata": {},
     "output_type": "display_data"
    }
   ],
   "source": [
    "import mlflow\n",
    "import mlflow.tensorflow\n",
    "import tensorflow as tf\n",
    "import numpy as np\n",
    "import matplotlib.pyplot as plt\n",
    "import seaborn as sns\n",
    "from sklearn.metrics import accuracy_score, classification_report, confusion_matrix\n",
    "\n",
    "# Set up MLflow\n",
    "experiment_name = \"SentimentAnalysis_Models\"\n",
    "mlflow.set_experiment(experiment_name)\n",
    "mlflow.set_tracking_uri(\"http://127.0.0.1:5000\")\n",
    "\n",
    "#Load LSTM Model\n",
    "#lstm_model = tf.keras.models.load_model(\"D:/Project/Sentiment_Analysis/lstm_sentiment_model_netural_option_2.h5\") \n",
    "\n",
    "\n",
    "with mlflow.start_run(run_name=\"lstm_model\"):\n",
    "    print(\"Logging LSTM model...\")\n",
    "\n",
    "    # Log model in MLflow\n",
    "    mlflow.tensorflow.log_model(lstm_model, \"LSTM_Threshold_0.25\")\n",
    "\n",
    "    # Log hyperparameters\n",
    "    mlflow.log_param(\"batch_size\", 128)\n",
    "    mlflow.log_param(\"epochs\", 8)\n",
    "    mlflow.log_param(\"model_type\", \"LSTM\")\n",
    "\n",
    "    # Evaluate model\n",
    "    y_pred_probs = lstm_model.predict(X_test)\n",
    "    y_pred = np.argmax(y_pred_probs, axis=1)\n",
    "    y_true = np.argmax(Y_test, axis=1)\n",
    "\n",
    "    # Compute accuracy\n",
    "    accuracy = accuracy_score(y_true, y_pred)\n",
    "\n",
    "    # Compute classification report\n",
    "    report = classification_report(y_true, y_pred, output_dict=True)\n",
    "\n",
    "    # Log all metrics\n",
    "    mlflow.log_metric(\"accuracy\", accuracy)\n",
    "    mlflow.log_metric(\"precision_negative\", report[\"0\"][\"precision\"])\n",
    "    mlflow.log_metric(\"recall_negative\", report[\"0\"][\"recall\"])\n",
    "    mlflow.log_metric(\"f1_negative\", report[\"0\"][\"f1-score\"])\n",
    "    mlflow.log_metric(\"precision_neutral\", report[\"1\"][\"precision\"])\n",
    "    mlflow.log_metric(\"recall_neutral\", report[\"1\"][\"recall\"])\n",
    "    mlflow.log_metric(\"f1_neutral\", report[\"1\"][\"f1-score\"])\n",
    "    mlflow.log_metric(\"precision_positive\", report[\"2\"][\"precision\"])\n",
    "    mlflow.log_metric(\"recall_positive\", report[\"2\"][\"recall\"])\n",
    "    mlflow.log_metric(\"f1_positive\", report[\"2\"][\"f1-score\"])\n",
    "\n",
    "    # Log classification report as JSON\n",
    "    mlflow.log_dict(report, \"classification_report.json\")\n",
    "\n",
    "    # Log Confusion Matrix as Image\n",
    "    conf_matrix = confusion_matrix(y_true, y_pred)\n",
    "    plt.figure(figsize=(6, 5))\n",
    "    sns.heatmap(conf_matrix, annot=True, fmt='d', cmap=\"Blues\",\n",
    "                xticklabels=[\"Negative\", \"Neutral\", \"Positive\"],\n",
    "                yticklabels=[\"Negative\", \"Neutral\", \"Positive\"])\n",
    "    plt.xlabel(\"Predicted Label\")\n",
    "    plt.ylabel(\"True Label\")\n",
    "    plt.title(\"Confusion Matrix - LSTM\")\n",
    "    \n",
    "    # Save and log confusion matrix\n",
    "    conf_matrix_filename = \"LSTM_Threshold_0.25_conf_matrix.png\"\n",
    "    plt.savefig(conf_matrix_filename)\n",
    "    mlflow.log_artifact(conf_matrix_filename)\n",
    "\n",
    "    print(\"LSTM model and metrics logged successfully!\")\n",
    "    print(f\"LSTM model logged Accuracy: {accuracy:.4f}\")\n"
   ]
  },
  {
   "cell_type": "markdown",
   "metadata": {},
   "source": [
    "GRU (Gated Recurrent Unit)"
   ]
  },
  {
   "cell_type": "code",
   "execution_count": 44,
   "metadata": {},
   "outputs": [],
   "source": [
    "from tensorflow.keras.layers import Embedding, GRU, Dense, Dropout"
   ]
  },
  {
   "cell_type": "code",
   "execution_count": 45,
   "metadata": {},
   "outputs": [],
   "source": [
    "from tensorflow.keras.layers import Bidirectional, GRU\n",
    "from tensorflow.keras.models import Sequential\n",
    "\n",
    "gru_model = Sequential([\n",
    "    Embedding(input_dim=VOCAB_SIZE, output_dim=embedding_dim, \n",
    "              weights=[embedding_matrix], input_length=max_length, trainable=False),\n",
    "    Bidirectional(GRU(128, return_sequences=True)),  \n",
    "    Dropout(0.2),\n",
    "    Bidirectional(GRU(64)),  \n",
    "    Dense(32, activation='relu'),\n",
    "    Dropout(0.2),\n",
    "    Dense(3, activation='softmax')\n",
    "])\n"
   ]
  },
  {
   "cell_type": "code",
   "execution_count": 46,
   "metadata": {},
   "outputs": [],
   "source": [
    "gru_model.compile(optimizer='adam', loss='categorical_crossentropy', metrics=['accuracy'])"
   ]
  },
  {
   "cell_type": "code",
   "execution_count": 47,
   "metadata": {},
   "outputs": [
    {
     "name": "stdout",
     "output_type": "stream",
     "text": [
      "Class Weights: {0: 1.1051119320514036, 1: 0.9040117134089152, 2: 1.0111898996574593}\n"
     ]
    }
   ],
   "source": [
    "from sklearn.utils.class_weight import compute_class_weight \n",
    "\n",
    "\n",
    "# Convert one-hot encoding to class labels (0, 1, 2)\n",
    "Y_train_labels = np.argmax(Y_train, axis=1)\n",
    "\n",
    "class_labels = np.unique(Y_train_labels)\n",
    "\n",
    "class_weights = compute_class_weight('balanced', classes=class_labels, y=Y_train_labels)\n",
    "\n",
    "# Convert to dictionary\n",
    "class_weight_dict = {class_labels[i]: class_weights[i] for i in range(len(class_weights))}\n",
    "print(\"Class Weights:\", class_weight_dict)"
   ]
  },
  {
   "cell_type": "code",
   "execution_count": 48,
   "metadata": {},
   "outputs": [
    {
     "name": "stdout",
     "output_type": "stream",
     "text": [
      "(1120000, 50) (1120000, 3)\n"
     ]
    }
   ],
   "source": [
    "print(X_train.shape, Y_train.shape)\n"
   ]
  },
  {
   "cell_type": "code",
   "execution_count": 49,
   "metadata": {},
   "outputs": [
    {
     "name": "stdout",
     "output_type": "stream",
     "text": [
      "Epoch 1/8\n",
      "7875/7875 [==============================] - 202s 25ms/step - loss: 0.6130 - accuracy: 0.7542 - val_loss: 0.5412 - val_accuracy: 0.7830\n",
      "Epoch 2/8\n",
      "7875/7875 [==============================] - 194s 25ms/step - loss: 0.5394 - accuracy: 0.7896 - val_loss: 0.5085 - val_accuracy: 0.7957\n",
      "Epoch 3/8\n",
      "7875/7875 [==============================] - 191s 24ms/step - loss: 0.5143 - accuracy: 0.8005 - val_loss: 0.5023 - val_accuracy: 0.8013\n",
      "Epoch 4/8\n",
      "7875/7875 [==============================] - 191s 24ms/step - loss: 0.4990 - accuracy: 0.8071 - val_loss: 0.4921 - val_accuracy: 0.8047\n",
      "Epoch 5/8\n",
      "7875/7875 [==============================] - 191s 24ms/step - loss: 0.4871 - accuracy: 0.8116 - val_loss: 0.4901 - val_accuracy: 0.8050\n",
      "Epoch 6/8\n",
      "7875/7875 [==============================] - 193s 24ms/step - loss: 0.4769 - accuracy: 0.8161 - val_loss: 0.4922 - val_accuracy: 0.8046\n",
      "Epoch 7/8\n",
      "7875/7875 [==============================] - 190s 24ms/step - loss: 0.4683 - accuracy: 0.8195 - val_loss: 0.4963 - val_accuracy: 0.8038\n",
      "Epoch 8/8\n",
      "7875/7875 [==============================] - 190s 24ms/step - loss: 0.4611 - accuracy: 0.8222 - val_loss: 0.4941 - val_accuracy: 0.8048\n"
     ]
    }
   ],
   "source": [
    "from tensorflow.keras.callbacks import EarlyStopping\n",
    "\n",
    "# Define Early Stopping\n",
    "early_stop = EarlyStopping(monitor='val_loss', patience=3, restore_best_weights=True)\n",
    "\n",
    "\n",
    "gru_history=gru_model.fit(\n",
    "    X_train, Y_train,\n",
    "    validation_split=0.1,\n",
    "    epochs=8,  # Set high, but early stopping will stop if needed\n",
    "    batch_size=128,\n",
    "    class_weight=class_weight_dict,  # Use computed class weights\n",
    "    callbacks=[early_stop]  # Add early stopping\n",
    ")\n"
   ]
  },
  {
   "cell_type": "code",
   "execution_count": 50,
   "metadata": {},
   "outputs": [
    {
     "name": "stdout",
     "output_type": "stream",
     "text": [
      "15000/15000 [==============================] - 144s 10ms/step - loss: 0.4929 - accuracy: 0.8046\n",
      "Test Accuracy: 0.8046\n"
     ]
    }
   ],
   "source": [
    "# Evaluate Model\n",
    "loss, accuracy = gru_model.evaluate(X_test, Y_test)\n",
    "print(f\"Test Accuracy: {accuracy:.4f}\")"
   ]
  },
  {
   "cell_type": "code",
   "execution_count": 51,
   "metadata": {},
   "outputs": [
    {
     "name": "stdout",
     "output_type": "stream",
     "text": [
      "15000/15000 [==============================] - 133s 9ms/step\n",
      "Classification Report:\n",
      "               precision    recall  f1-score   support\n",
      "\n",
      "           0       0.73      0.72      0.73    144781\n",
      "           1       0.89      0.86      0.88    176989\n",
      "           2       0.78      0.81      0.80    158230\n",
      "\n",
      "    accuracy                           0.80    480000\n",
      "   macro avg       0.80      0.80      0.80    480000\n",
      "weighted avg       0.81      0.80      0.80    480000\n",
      "\n"
     ]
    },
    {
     "data": {
      "image/png": "[encoded data removed]",
      "text/plain": [
       "<Figure size 500x500 with 2 Axes>"
      ]
     },
     "metadata": {},
     "output_type": "display_data"
    }
   ],
   "source": [
    "# Get model predictions\n",
    "# Predictions\n",
    "# Convert Y_test from one-hot encoding to label format\n",
    "Y_test_labels = np.argmax(Y_test, axis=1)\n",
    "\n",
    "gru_probs = gru_model.predict(X_test)\n",
    "gru_preds = np.argmax(gru_probs, axis=1) \n",
    "\n",
    "# Classification report\n",
    "print(\"Classification Report:\\n\", classification_report(Y_test_labels, gru_preds))\n",
    "\n",
    "# Confusion Matrix\n",
    "cm = confusion_matrix(Y_test_labels, gru_preds)\n",
    "plt.figure(figsize=(5,5))\n",
    "sns.heatmap(cm, annot=True, fmt=\"d\", cmap=\"Blues\", xticklabels=['Negative', 'Neutral', 'Positive'], yticklabels=['Negative', 'Neutral', 'Positive'])\n",
    "plt.xlabel(\"Predicted\")\n",
    "plt.ylabel(\"Actual\")\n",
    "plt.title(\"Confusion Matrix\")\n",
    "plt.show()"
   ]
  },
  {
   "cell_type": "code",
   "execution_count": 52,
   "metadata": {},
   "outputs": [
    {
     "data": {
      "image/png": "[encoded data removed]",
      "text/plain": [
       "<Figure size 1200x500 with 2 Axes>"
      ]
     },
     "metadata": {},
     "output_type": "display_data"
    }
   ],
   "source": [
    "# Plot Training History\n",
    "plt.figure(figsize=(12, 5))\n",
    "\n",
    "# Accuracy Plot\n",
    "plt.subplot(1, 2, 1)\n",
    "plt.plot(gru_history.history['accuracy'], label='Train Accuracy')\n",
    "plt.plot(gru_history.history['val_accuracy'], label='Validation Accuracy')\n",
    "plt.xlabel(\"Epochs\")\n",
    "plt.ylabel(\"Accuracy\")\n",
    "plt.legend()\n",
    "plt.title(\"Model Accuracy\")\n",
    "\n",
    "# Loss Plot\n",
    "plt.subplot(1, 2, 2)\n",
    "plt.plot(gru_history.history['loss'], label='Train Loss')\n",
    "plt.plot(gru_history.history['val_loss'], label='Validation Loss')\n",
    "plt.xlabel(\"Epochs\")\n",
    "plt.ylabel(\"Loss\")\n",
    "plt.legend()\n",
    "plt.title(\"Model Loss\")\n",
    "\n",
    "plt.show()\n"
   ]
  },
  {
   "cell_type": "code",
   "execution_count": 53,
   "metadata": {},
   "outputs": [],
   "source": [
    "gru_model.save(\"D:/Project/Sentiment_Analysis/Model/with_netural_sentiment/gru_sentiment_model.h5\")"
   ]
  },
  {
   "cell_type": "markdown",
   "metadata": {},
   "source": [
    "MLFLOW LOG"
   ]
  },
  {
   "cell_type": "code",
   "execution_count": 54,
   "metadata": {},
   "outputs": [
    {
     "name": "stderr",
     "output_type": "stream",
     "text": [
      "2025/03/23 15:22:28 WARNING mlflow.tensorflow: You are saving a TensorFlow Core model or Keras model without a signature. Inference with mlflow.pyfunc.spark_udf() will not work unless the model's pyfunc representation accepts pandas DataFrames as inference inputs.\n"
     ]
    },
    {
     "name": "stdout",
     "output_type": "stream",
     "text": [
      "Logging GRU model...\n"
     ]
    },
    {
     "name": "stderr",
     "output_type": "stream",
     "text": [
      "WARNING:absl:Found untraced functions such as gru_cell_1_layer_call_fn, gru_cell_1_layer_call_and_return_conditional_losses, gru_cell_2_layer_call_fn, gru_cell_2_layer_call_and_return_conditional_losses, gru_cell_4_layer_call_fn while saving (showing 5 of 8). These functions will not be directly callable after loading.\n"
     ]
    },
    {
     "name": "stdout",
     "output_type": "stream",
     "text": [
      "INFO:tensorflow:Assets written to: C:\\Users\\loges\\AppData\\Local\\Temp\\tmp1cvricn3\\model\\data\\model\\assets\n"
     ]
    },
    {
     "name": "stderr",
     "output_type": "stream",
     "text": [
      "INFO:tensorflow:Assets written to: C:\\Users\\loges\\AppData\\Local\\Temp\\tmp1cvricn3\\model\\data\\model\\assets\n",
      "2025/03/23 15:23:21 WARNING mlflow.utils.environment: Encountered an unexpected error while inferring pip requirements (model URI: C:\\Users\\loges\\AppData\\Local\\Temp\\tmp1cvricn3\\model, flavor: tensorflow), fall back to return ['tensorflow==2.10.1']. Set logging level to DEBUG to see the full traceback.\n"
     ]
    },
    {
     "name": "stdout",
     "output_type": "stream",
     "text": [
      "15000/15000 [==============================] - 146s 10ms/step\n",
      "GRU model and metrics logged successfully!\n",
      "GRU model logged Accuracy: 0.8046\n"
     ]
    },
    {
     "data": {
      "image/png": "[encoded data removed]",
      "text/plain": [
       "<Figure size 600x500 with 2 Axes>"
      ]
     },
     "metadata": {},
     "output_type": "display_data"
    }
   ],
   "source": [
    "import mlflow\n",
    "import mlflow.tensorflow\n",
    "import tensorflow as tf\n",
    "import numpy as np\n",
    "import matplotlib.pyplot as plt\n",
    "import seaborn as sns\n",
    "from sklearn.metrics import accuracy_score, classification_report, confusion_matrix\n",
    "\n",
    "# Set up MLflow\n",
    "experiment_name = \"SentimentAnalysis_Models\"\n",
    "mlflow.set_experiment(experiment_name)\n",
    "mlflow.set_tracking_uri(\"http://127.0.0.1:5000\")\n",
    "\n",
    "# # Load GRU Model\n",
    "# gru_model = tf.keras.models.load_model(\"saved_models/gru_model.h5\")  # Ensure the correct path\n",
    "\n",
    "# # Load test dataset (Replace with actual test dataset)\n",
    "# X_test, Y_test = load_test_data()  # Make sure you have this function\n",
    "\n",
    "with mlflow.start_run(run_name=\"GRU\"):\n",
    "    print(\"Logging GRU model...\")\n",
    "\n",
    "    # Log model in MLflow\n",
    "    mlflow.tensorflow.log_model(gru_model, \"GRUThreshold_0.25\")\n",
    "\n",
    "    # Log hyperparameters\n",
    "    mlflow.log_param(\"batch_size\", 128)\n",
    "    mlflow.log_param(\"epochs\", 8)\n",
    "    mlflow.log_param(\"model_type\", \"GRU\")\n",
    "\n",
    "    # Evaluate model\n",
    "    y_pred_probs = gru_model.predict(X_test)\n",
    "    y_pred = np.argmax(y_pred_probs, axis=1)\n",
    "    y_true = np.argmax(Y_test, axis=1)\n",
    "\n",
    "    # Compute accuracy\n",
    "    accuracy = accuracy_score(y_true, y_pred)\n",
    "\n",
    "    # Compute classification report\n",
    "    report = classification_report(y_true, y_pred, output_dict=True)\n",
    "\n",
    "    # Log all metrics\n",
    "    mlflow.log_metric(\"accuracy\", accuracy)\n",
    "    mlflow.log_metric(\"precision_negative\", report[\"0\"][\"precision\"])\n",
    "    mlflow.log_metric(\"recall_negative\", report[\"0\"][\"recall\"])\n",
    "    mlflow.log_metric(\"f1_negative\", report[\"0\"][\"f1-score\"])\n",
    "    mlflow.log_metric(\"precision_neutral\", report[\"1\"][\"precision\"])\n",
    "    mlflow.log_metric(\"recall_neutral\", report[\"1\"][\"recall\"])\n",
    "    mlflow.log_metric(\"f1_neutral\", report[\"1\"][\"f1-score\"])\n",
    "    mlflow.log_metric(\"precision_positive\", report[\"2\"][\"precision\"])\n",
    "    mlflow.log_metric(\"recall_positive\", report[\"2\"][\"recall\"])\n",
    "    mlflow.log_metric(\"f1_positive\", report[\"2\"][\"f1-score\"])\n",
    "\n",
    "    # Log classification report as JSON\n",
    "    mlflow.log_dict(report, \"classification_report.json\")\n",
    "\n",
    "    # Log Confusion Matrix as Image\n",
    "    conf_matrix = confusion_matrix(y_true, y_pred)\n",
    "    plt.figure(figsize=(6, 5))\n",
    "    sns.heatmap(conf_matrix, annot=True, fmt='d', cmap=\"Blues\",\n",
    "                xticklabels=[\"Negative\", \"Neutral\", \"Positive\"],\n",
    "                yticklabels=[\"Negative\", \"Neutral\", \"Positive\"])\n",
    "    plt.xlabel(\"Predicted Label\")\n",
    "    plt.ylabel(\"True Label\")\n",
    "    plt.title(\"Confusion Matrix - GRU\")\n",
    "    \n",
    "    # Save and log confusion matrix\n",
    "    conf_matrix_filename = \"GRU_Threshold_0.25_conf_matrix.png\"\n",
    "    plt.savefig(conf_matrix_filename)\n",
    "    mlflow.log_artifact(conf_matrix_filename)\n",
    "\n",
    "    print(\"GRU model and metrics logged successfully!\")\n",
    "    print(f\"GRU model logged Accuracy: {accuracy:.4f}\")\n"
   ]
  },
  {
   "cell_type": "code",
   "execution_count": null,
   "metadata": {},
   "outputs": [],
   "source": []
  },
  {
   "cell_type": "markdown",
   "metadata": {},
   "source": [
    "BERT (Bidirectional Encoder Representations fron Transformers)"
   ]
  },
  {
   "cell_type": "code",
   "execution_count": 55,
   "metadata": {},
   "outputs": [],
   "source": [
    "\n",
    "import tensorflow as tf\n",
    "\n",
    "\n",
    "# Clear TensorFlow session\n",
    "tf.keras.backend.clear_session()"
   ]
  },
  {
   "cell_type": "code",
   "execution_count": 56,
   "metadata": {},
   "outputs": [],
   "source": [
    "import pandas as pd\n",
    "import numpy as np\n",
    "import tensorflow as tf\n",
    "from transformers import BertTokenizer, TFDistilBertForSequenceClassification\n",
    "from sklearn.model_selection import train_test_split\n",
    "from tensorflow.data import AUTOTUNE\n",
    "from tensorflow.keras import mixed_precision"
   ]
  },
  {
   "cell_type": "code",
   "execution_count": 57,
   "metadata": {},
   "outputs": [
    {
     "name": "stdout",
     "output_type": "stream",
     "text": [
      "INFO:tensorflow:Mixed precision compatibility check (mixed_float16): OK\n",
      "Your GPU will likely run quickly with dtype policy mixed_float16 as it has compute capability of at least 7.0. Your GPU: NVIDIA GeForce RTX 2050, compute capability 8.6\n"
     ]
    },
    {
     "name": "stderr",
     "output_type": "stream",
     "text": [
      "INFO:tensorflow:Mixed precision compatibility check (mixed_float16): OK\n",
      "Your GPU will likely run quickly with dtype policy mixed_float16 as it has compute capability of at least 7.0. Your GPU: NVIDIA GeForce RTX 2050, compute capability 8.6\n"
     ]
    }
   ],
   "source": [
    "# Enable mixed precision to reduce memory usage\n",
    "mixed_precision.set_global_policy(\"mixed_float16\")"
   ]
  },
  {
   "cell_type": "code",
   "execution_count": 58,
   "metadata": {},
   "outputs": [
    {
     "name": "stderr",
     "output_type": "stream",
     "text": [
      "c:\\Users\\loges\\anaconda3\\envs\\tensorflow_env\\lib\\site-packages\\huggingface_hub\\file_download.py:797: FutureWarning: `resume_download` is deprecated and will be removed in version 1.0.0. Downloads always resume when possible. If you want to force a new download, use `force_download=True`.\n",
      "  warnings.warn(\n"
     ]
    }
   ],
   "source": [
    "# Load the pre-trained BERT tokenizer\n",
    "tokenizer = BertTokenizer.from_pretrained('bert-base-uncased')"
   ]
  },
  {
   "cell_type": "code",
   "execution_count": 60,
   "metadata": {},
   "outputs": [],
   "source": [
    "#Load Dataset\n",
    "df=pd.read_csv(\"D:/Project/Sentiment_Analysis/Dataset/pre_processed/Sentiment140_dataset_with_neutal&cleantext.csv\")\n",
    "df=df.drop(columns=['text'], axis=1)"
   ]
  },
  {
   "cell_type": "code",
   "execution_count": 61,
   "metadata": {},
   "outputs": [
    {
     "data": {
      "text/html": [
       "<div>\n",
       "<style scoped>\n",
       "    .dataframe tbody tr th:only-of-type {\n",
       "        vertical-align: middle;\n",
       "    }\n",
       "\n",
       "    .dataframe tbody tr th {\n",
       "        vertical-align: top;\n",
       "    }\n",
       "\n",
       "    .dataframe thead th {\n",
       "        text-align: right;\n",
       "    }\n",
       "</style>\n",
       "<table border=\"1\" class=\"dataframe\">\n",
       "  <thead>\n",
       "    <tr style=\"text-align: right;\">\n",
       "      <th></th>\n",
       "      <th>label</th>\n",
       "      <th>clean_text</th>\n",
       "    </tr>\n",
       "  </thead>\n",
       "  <tbody>\n",
       "    <tr>\n",
       "      <th>0</th>\n",
       "      <td>1.0</td>\n",
       "      <td>awww thats bummer shoulda got david carr third...</td>\n",
       "    </tr>\n",
       "    <tr>\n",
       "      <th>1</th>\n",
       "      <td>0.0</td>\n",
       "      <td>upset cant update facebook texting might cry r...</td>\n",
       "    </tr>\n",
       "    <tr>\n",
       "      <th>2</th>\n",
       "      <td>0.0</td>\n",
       "      <td>dived many times ball managed save rest go bounds</td>\n",
       "    </tr>\n",
       "    <tr>\n",
       "      <th>3</th>\n",
       "      <td>1.0</td>\n",
       "      <td>whole body feels itchy like fire</td>\n",
       "    </tr>\n",
       "    <tr>\n",
       "      <th>4</th>\n",
       "      <td>0.0</td>\n",
       "      <td>behaving im mad cant see</td>\n",
       "    </tr>\n",
       "  </tbody>\n",
       "</table>\n",
       "</div>"
      ],
      "text/plain": [
       "   label                                         clean_text\n",
       "0    1.0  awww thats bummer shoulda got david carr third...\n",
       "1    0.0  upset cant update facebook texting might cry r...\n",
       "2    0.0  dived many times ball managed save rest go bounds\n",
       "3    1.0                   whole body feels itchy like fire\n",
       "4    0.0                           behaving im mad cant see"
      ]
     },
     "execution_count": 61,
     "metadata": {},
     "output_type": "execute_result"
    }
   ],
   "source": [
    "df.head()"
   ]
  },
  {
   "cell_type": "code",
   "execution_count": 62,
   "metadata": {},
   "outputs": [
    {
     "data": {
      "text/plain": [
       "1.0    589963\n",
       "2.0    527432\n",
       "0.0    482605\n",
       "Name: label, dtype: int64"
      ]
     },
     "execution_count": 62,
     "metadata": {},
     "output_type": "execute_result"
    }
   ],
   "source": [
    "df['label'].value_counts()"
   ]
  },
  {
   "cell_type": "code",
   "execution_count": 63,
   "metadata": {},
   "outputs": [
    {
     "data": {
      "text/plain": [
       "label            0\n",
       "clean_text    7014\n",
       "dtype: int64"
      ]
     },
     "execution_count": 63,
     "metadata": {},
     "output_type": "execute_result"
    }
   ],
   "source": [
    "df.isnull().sum()"
   ]
  },
  {
   "cell_type": "code",
   "execution_count": 64,
   "metadata": {},
   "outputs": [],
   "source": [
    "df.dropna(inplace=True)"
   ]
  },
  {
   "cell_type": "code",
   "execution_count": 65,
   "metadata": {},
   "outputs": [
    {
     "data": {
      "text/plain": [
       "label         0\n",
       "clean_text    0\n",
       "dtype: int64"
      ]
     },
     "execution_count": 65,
     "metadata": {},
     "output_type": "execute_result"
    }
   ],
   "source": [
    "df.isnull().sum()"
   ]
  },
  {
   "cell_type": "code",
   "execution_count": 66,
   "metadata": {},
   "outputs": [],
   "source": [
    "train_texts, test_texts, train_labels, test_labels = train_test_split(df[\"clean_text\"], df[\"label\"], test_size=0.3, random_state=1, stratify=df[\"label\"])"
   ]
  },
  {
   "cell_type": "code",
   "execution_count": 67,
   "metadata": {},
   "outputs": [
    {
     "name": "stdout",
     "output_type": "stream",
     "text": [
      "<class 'pandas.core.series.Series'>\n",
      "691597                                welcome worst day life\n",
      "130870     glenn hurry come back london want see guys im ...\n",
      "532118     thanksi know im bit late blocked twitter work ...\n",
      "828563                                             oh nice x\n",
      "1441403    pimpin pimpin sleep knocked cousins lap im hit...\n",
      "Name: clean_text, dtype: object\n"
     ]
    }
   ],
   "source": [
    "print(type(train_texts))\n",
    "print(train_texts[:5])  # Show first 5 samples\n"
   ]
  },
  {
   "cell_type": "code",
   "execution_count": 68,
   "metadata": {},
   "outputs": [
    {
     "name": "stdout",
     "output_type": "stream",
     "text": [
      "<class 'pandas.core.series.Series'>\n",
      "<class 'pandas.core.series.Series'>\n",
      "691597                                welcome worst day life\n",
      "130870     glenn hurry come back london want see guys im ...\n",
      "532118     thanksi know im bit late blocked twitter work ...\n",
      "828563                                             oh nice x\n",
      "1441403    pimpin pimpin sleep knocked cousins lap im hit...\n",
      "Name: clean_text, dtype: object\n",
      "926068     hey boo boo head thankies yes greedy want stic...\n",
      "488684     cant get hang twitter thing trying looks like ...\n",
      "869908     arrived netshop minutes ago pacquiao vs hatton...\n",
      "215107      awhhe man im completely useless rt funny twitter\n",
      "1471836    yeah actually public schools already started p...\n",
      "Name: clean_text, dtype: object\n"
     ]
    }
   ],
   "source": [
    "print(type(train_texts))  # Should be list or Pandas Series\n",
    "print(type(test_texts))   # Should be list or Pandas Series\n",
    "\n",
    "# Check first few elements\n",
    "print(train_texts[:5])\n",
    "print(test_texts[:5])\n"
   ]
  },
  {
   "cell_type": "code",
   "execution_count": 69,
   "metadata": {},
   "outputs": [
    {
     "name": "stdout",
     "output_type": "stream",
     "text": [
      "<class 'str'>    1115090\n",
      "Name: clean_text, dtype: int64\n",
      "<class 'str'>    477896\n",
      "Name: clean_text, dtype: int64\n"
     ]
    }
   ],
   "source": [
    "print(train_texts.apply(lambda x: type(x)).value_counts())\n",
    "print(test_texts.apply(lambda x: type(x)).value_counts())\n"
   ]
  },
  {
   "cell_type": "code",
   "execution_count": 70,
   "metadata": {},
   "outputs": [],
   "source": [
    "train_texts, val_texts, train_labels, val_labels = train_test_split(\n",
    "    train_texts, train_labels, test_size=0.2, random_state=1, stratify=train_labels\n",
    ")"
   ]
  },
  {
   "cell_type": "code",
   "execution_count": 71,
   "metadata": {},
   "outputs": [],
   "source": [
    "# Function to tokenize and convert to TensorFlow tensors\n",
    "def encode_texts(texts, labels):\n",
    "    encodings = tokenizer(list(texts), truncation=True, padding=True, max_length=64)\n",
    "    input_ids = tf.convert_to_tensor(encodings[\"input_ids\"])\n",
    "    attention_mask = tf.convert_to_tensor(encodings[\"attention_mask\"])\n",
    "    labels = tf.convert_to_tensor(labels, dtype=tf.int32)\n",
    "    return {\"input_ids\": input_ids, \"attention_mask\": attention_mask}, labels"
   ]
  },
  {
   "cell_type": "code",
   "execution_count": 72,
   "metadata": {},
   "outputs": [],
   "source": [
    "# Convert datasets to TensorFlow format\n",
    "batch_size = 4\n",
    "\n",
    "train_dataset = tf.data.Dataset.from_tensor_slices(encode_texts(train_texts, train_labels)).batch(batch_size).prefetch(AUTOTUNE)\n",
    "val_dataset = tf.data.Dataset.from_tensor_slices(encode_texts(val_texts, val_labels)).batch(batch_size).prefetch(AUTOTUNE)\n",
    "test_dataset = tf.data.Dataset.from_tensor_slices(encode_texts(test_texts, test_labels)).batch(batch_size).prefetch(AUTOTUNE)"
   ]
  },
  {
   "cell_type": "code",
   "execution_count": 73,
   "metadata": {},
   "outputs": [
    {
     "data": {
      "text/plain": [
       "('bert_tokenizer/tokenizer_config.json',\n",
       " 'bert_tokenizer/special_tokens_map.json',\n",
       " 'bert_tokenizer/vocab.txt',\n",
       " 'bert_tokenizer/added_tokens.json')"
      ]
     },
     "execution_count": 73,
     "metadata": {},
     "output_type": "execute_result"
    }
   ],
   "source": [
    "# save the tokenizer for later use\n",
    "tokenizer.save_pretrained(\"bert_tokenizer/\")\n"
   ]
  },
  {
   "cell_type": "code",
   "execution_count": 74,
   "metadata": {},
   "outputs": [
    {
     "name": "stderr",
     "output_type": "stream",
     "text": [
      "c:\\Users\\loges\\anaconda3\\envs\\tensorflow_env\\lib\\site-packages\\huggingface_hub\\file_download.py:797: FutureWarning: `resume_download` is deprecated and will be removed in version 1.0.0. Downloads always resume when possible. If you want to force a new download, use `force_download=True`.\n",
      "  warnings.warn(\n",
      "Some layers from the model checkpoint at distilbert-base-uncased were not used when initializing TFDistilBertForSequenceClassification: ['activation_13', 'vocab_projector', 'vocab_transform', 'vocab_layer_norm']\n",
      "- This IS expected if you are initializing TFDistilBertForSequenceClassification from the checkpoint of a model trained on another task or with another architecture (e.g. initializing a BertForSequenceClassification model from a BertForPreTraining model).\n",
      "- This IS NOT expected if you are initializing TFDistilBertForSequenceClassification from the checkpoint of a model that you expect to be exactly identical (initializing a BertForSequenceClassification model from a BertForSequenceClassification model).\n",
      "Some layers of TFDistilBertForSequenceClassification were not initialized from the model checkpoint at distilbert-base-uncased and are newly initialized: ['pre_classifier', 'classifier', 'dropout_19']\n",
      "You should probably TRAIN this model on a down-stream task to be able to use it for predictions and inference.\n"
     ]
    }
   ],
   "source": [
    "# Load the pre-trained DistilBERT model for sequence classification\n",
    "\n",
    "bert_model = TFDistilBertForSequenceClassification.from_pretrained(\"distilbert-base-uncased\", num_labels=3)\n"
   ]
  },
  {
   "cell_type": "code",
   "execution_count": 75,
   "metadata": {},
   "outputs": [],
   "source": [
    "optimizer = tf.keras.optimizers.Adam(learning_rate=5e-5)\n",
    "loss = tf.keras.losses.SparseCategoricalCrossentropy(from_logits=True)\n",
    "metric = tf.keras.metrics.SparseCategoricalAccuracy(\"accuracy\")\n",
    "\n",
    "bert_model.compile(optimizer=optimizer, loss=loss, metrics=[metric])\n"
   ]
  },
  {
   "cell_type": "code",
   "execution_count": 76,
   "metadata": {},
   "outputs": [
    {
     "name": "stdout",
     "output_type": "stream",
     "text": [
      "Train dataset size: 892072, Validation dataset size: 223018, Test dataset size: 477896\n"
     ]
    }
   ],
   "source": [
    "# Debugging: Check dataset shapes\n",
    "print(f\"Train dataset size: {len(train_texts)}, Validation dataset size: {len(val_texts)}, Test dataset size: {len(test_texts)}\")"
   ]
  },
  {
   "cell_type": "code",
   "execution_count": 77,
   "metadata": {},
   "outputs": [
    {
     "name": "stdout",
     "output_type": "stream",
     "text": [
      "Epoch 1/3\n",
      "5000/5000 [==============================] - 516s 102ms/step - loss: 0.7526 - accuracy: 0.6941 - val_loss: 0.6835 - val_accuracy: 0.7341\n",
      "Epoch 2/3\n",
      "5000/5000 [==============================] - 506s 101ms/step - loss: 0.6692 - accuracy: 0.7345 - val_loss: 0.6318 - val_accuracy: 0.7429\n",
      "Epoch 3/3\n",
      "5000/5000 [==============================] - 507s 101ms/step - loss: 0.6432 - accuracy: 0.7431 - val_loss: 0.6266 - val_accuracy: 0.7421\n"
     ]
    }
   ],
   "source": [
    "# Train Model\n",
    "from tensorflow.keras.callbacks import ProgbarLogger\n",
    "epochs = 3\n",
    "bert_history = bert_model.fit(train_dataset, validation_data=val_dataset, epochs=epochs, steps_per_epoch=5000, validation_steps=2000, verbose=1, callbacks=[ProgbarLogger(count_mode=\"steps\")])  # Force logs in VS Code\n",
    "\n"
   ]
  },
  {
   "cell_type": "code",
   "execution_count": 78,
   "metadata": {},
   "outputs": [
    {
     "name": "stdout",
     "output_type": "stream",
     "text": [
      "WARNING:tensorflow:Skipping full serialization of Keras layer <keras.layers.regularization.dropout.Dropout object at 0x000002317C091750>, because it is not built.\n"
     ]
    },
    {
     "name": "stderr",
     "output_type": "stream",
     "text": [
      "WARNING:tensorflow:Skipping full serialization of Keras layer <keras.layers.regularization.dropout.Dropout object at 0x000002317C091750>, because it is not built.\n"
     ]
    },
    {
     "name": "stdout",
     "output_type": "stream",
     "text": [
      "WARNING:tensorflow:Skipping full serialization of Keras layer <keras.layers.regularization.dropout.Dropout object at 0x000002317C092F80>, because it is not built.\n"
     ]
    },
    {
     "name": "stderr",
     "output_type": "stream",
     "text": [
      "WARNING:tensorflow:Skipping full serialization of Keras layer <keras.layers.regularization.dropout.Dropout object at 0x000002317C092F80>, because it is not built.\n"
     ]
    },
    {
     "name": "stdout",
     "output_type": "stream",
     "text": [
      "WARNING:tensorflow:Skipping full serialization of Keras layer <keras.layers.regularization.dropout.Dropout object at 0x000002317C128100>, because it is not built.\n"
     ]
    },
    {
     "name": "stderr",
     "output_type": "stream",
     "text": [
      "WARNING:tensorflow:Skipping full serialization of Keras layer <keras.layers.regularization.dropout.Dropout object at 0x000002317C128100>, because it is not built.\n"
     ]
    },
    {
     "name": "stdout",
     "output_type": "stream",
     "text": [
      "WARNING:tensorflow:Skipping full serialization of Keras layer <keras.layers.regularization.dropout.Dropout object at 0x000002317C26D390>, because it is not built.\n"
     ]
    },
    {
     "name": "stderr",
     "output_type": "stream",
     "text": [
      "WARNING:tensorflow:Skipping full serialization of Keras layer <keras.layers.regularization.dropout.Dropout object at 0x000002317C26D390>, because it is not built.\n"
     ]
    },
    {
     "name": "stdout",
     "output_type": "stream",
     "text": [
      "WARNING:tensorflow:Skipping full serialization of Keras layer <keras.layers.regularization.dropout.Dropout object at 0x000002317C26EDA0>, because it is not built.\n"
     ]
    },
    {
     "name": "stderr",
     "output_type": "stream",
     "text": [
      "WARNING:tensorflow:Skipping full serialization of Keras layer <keras.layers.regularization.dropout.Dropout object at 0x000002317C26EDA0>, because it is not built.\n"
     ]
    },
    {
     "name": "stdout",
     "output_type": "stream",
     "text": [
      "WARNING:tensorflow:Skipping full serialization of Keras layer <keras.layers.regularization.dropout.Dropout object at 0x000002317C1B5570>, because it is not built.\n"
     ]
    },
    {
     "name": "stderr",
     "output_type": "stream",
     "text": [
      "WARNING:tensorflow:Skipping full serialization of Keras layer <keras.layers.regularization.dropout.Dropout object at 0x000002317C1B5570>, because it is not built.\n",
      "WARNING:absl:Found untraced functions such as embeddings_layer_call_fn, embeddings_layer_call_and_return_conditional_losses, transformer_layer_call_fn, transformer_layer_call_and_return_conditional_losses, LayerNorm_layer_call_fn while saving (showing 5 of 164). These functions will not be directly callable after loading.\n"
     ]
    },
    {
     "name": "stdout",
     "output_type": "stream",
     "text": [
      "INFO:tensorflow:Assets written to: bert_sentiment_model_with_neutral\\assets\n"
     ]
    },
    {
     "name": "stderr",
     "output_type": "stream",
     "text": [
      "INFO:tensorflow:Assets written to: bert_sentiment_model_with_neutral\\assets\n"
     ]
    }
   ],
   "source": [
    "bert_model.save(\"bert_sentiment_model_with_neutral\")"
   ]
  },
  {
   "cell_type": "code",
   "execution_count": 79,
   "metadata": {},
   "outputs": [
    {
     "name": "stdout",
     "output_type": "stream",
     "text": [
      "5000/5000 [==============================] - 113s 22ms/step - loss: 0.6311 - accuracy: 0.7448\n",
      "Test Loss: 0.6311, Accuracy: 0.7448\n"
     ]
    }
   ],
   "source": [
    "# Evaluate Model\n",
    "loss, accuracy = bert_model.evaluate(test_dataset, steps=5000)\n",
    "print(f\"Test Loss: {loss:.4f}, Accuracy: {accuracy:.4f}\")"
   ]
  },
  {
   "cell_type": "code",
   "execution_count": 80,
   "metadata": {},
   "outputs": [
    {
     "name": "stdout",
     "output_type": "stream",
     "text": [
      "Model: \"tf_distil_bert_for_sequence_classification\"\n",
      "_________________________________________________________________\n",
      " Layer (type)                Output Shape              Param #   \n",
      "=================================================================\n",
      " distilbert (TFDistilBertMai  multiple                 66362880  \n",
      " nLayer)                                                         \n",
      "                                                                 \n",
      " pre_classifier (Dense)      multiple                  590592    \n",
      "                                                                 \n",
      " classifier (Dense)          multiple                  2307      \n",
      "                                                                 \n",
      " dropout_19 (Dropout)        multiple                  0         \n",
      "                                                                 \n",
      "=================================================================\n",
      "Total params: 66,955,779\n",
      "Trainable params: 66,955,779\n",
      "Non-trainable params: 0\n",
      "_________________________________________________________________\n"
     ]
    }
   ],
   "source": [
    "bert_model.summary()"
   ]
  },
  {
   "cell_type": "code",
   "execution_count": 81,
   "metadata": {},
   "outputs": [
    {
     "name": "stdout",
     "output_type": "stream",
     "text": [
      "119474/119474 [==============================] - 2791s 23ms/step\n"
     ]
    }
   ],
   "source": [
    "y_pred_dict = bert_model.predict(test_dataset)"
   ]
  },
  {
   "cell_type": "code",
   "execution_count": 82,
   "metadata": {},
   "outputs": [
    {
     "name": "stdout",
     "output_type": "stream",
     "text": [
      "              precision    recall  f1-score   support\n",
      "\n",
      "    Negative       0.72      0.57      0.63    144743\n",
      "     Neutral       0.83      0.82      0.82    174935\n",
      "    Positive       0.69      0.83      0.76    158218\n",
      "\n",
      "    accuracy                           0.75    477896\n",
      "   macro avg       0.75      0.74      0.74    477896\n",
      "weighted avg       0.75      0.75      0.74    477896\n",
      "\n",
      "Confusion Matrix:\n",
      " [[ 82319  20396  42028]\n",
      " [ 15556 143193  16186]\n",
      " [ 16821   9570 131827]]\n"
     ]
    },
    {
     "data": {
      "image/png": "[encoded data removed]",
      "text/plain": [
       "<Figure size 600x500 with 2 Axes>"
      ]
     },
     "metadata": {},
     "output_type": "display_data"
    }
   ],
   "source": [
    "from sklearn.metrics import classification_report, confusion_matrix\n",
    "#  Get Model Predictions\n",
    "\n",
    "# Get model predictions\n",
    "#y_pred_dict = bert_model.predict(test_dataset)\n",
    "y_pred_probs = y_pred_dict[\"logits\"]  # Extract logits\n",
    "y_pred = np.argmax(y_pred_probs, axis=1)  # Convert to class labels\n",
    "\n",
    "# Convert TensorFlow dataset labels to numpy\n",
    "y_true = np.concatenate([y for _, y in test_dataset], axis=0)\n",
    "\n",
    "# Classification Report\n",
    "target_names = [\"Negative\", \"Neutral\", \"Positive\"]\n",
    "print(classification_report(y_true, y_pred, target_names=target_names))\n",
    "\n",
    "# Confusion Matrix\n",
    "conf_matrix = confusion_matrix(y_true, y_pred)\n",
    "print(\"Confusion Matrix:\\n\", conf_matrix)\n",
    "\n",
    "#  Plot Confusion Matrix\n",
    "plt.figure(figsize=(6, 5))\n",
    "sns.heatmap(conf_matrix, annot=True, fmt='d', cmap=\"Blues\", xticklabels=target_names, yticklabels=target_names)\n",
    "plt.xlabel(\"Predicted Label\")\n",
    "plt.ylabel(\"True Label\")\n",
    "plt.title(\"Confusion Matrix\")\n",
    "plt.show()\n"
   ]
  },
  {
   "cell_type": "markdown",
   "metadata": {},
   "source": [
    "MLFLOW LOG"
   ]
  },
  {
   "cell_type": "code",
   "execution_count": 84,
   "metadata": {},
   "outputs": [
    {
     "name": "stderr",
     "output_type": "stream",
     "text": [
      "2025/03/23 17:05:23 WARNING mlflow.tensorflow: You are saving a TensorFlow Core model or Keras model without a signature. Inference with mlflow.pyfunc.spark_udf() will not work unless the model's pyfunc representation accepts pandas DataFrames as inference inputs.\n"
     ]
    },
    {
     "name": "stdout",
     "output_type": "stream",
     "text": [
      "Logging BERT model...\n",
      "WARNING:tensorflow:Skipping full serialization of Keras layer <keras.layers.regularization.dropout.Dropout object at 0x000002317C091750>, because it is not built.\n"
     ]
    },
    {
     "name": "stderr",
     "output_type": "stream",
     "text": [
      "WARNING:tensorflow:Skipping full serialization of Keras layer <keras.layers.regularization.dropout.Dropout object at 0x000002317C091750>, because it is not built.\n"
     ]
    },
    {
     "name": "stdout",
     "output_type": "stream",
     "text": [
      "WARNING:tensorflow:Skipping full serialization of Keras layer <keras.layers.regularization.dropout.Dropout object at 0x000002317C092F80>, because it is not built.\n"
     ]
    },
    {
     "name": "stderr",
     "output_type": "stream",
     "text": [
      "WARNING:tensorflow:Skipping full serialization of Keras layer <keras.layers.regularization.dropout.Dropout object at 0x000002317C092F80>, because it is not built.\n"
     ]
    },
    {
     "name": "stdout",
     "output_type": "stream",
     "text": [
      "WARNING:tensorflow:Skipping full serialization of Keras layer <keras.layers.regularization.dropout.Dropout object at 0x000002317C128100>, because it is not built.\n"
     ]
    },
    {
     "name": "stderr",
     "output_type": "stream",
     "text": [
      "WARNING:tensorflow:Skipping full serialization of Keras layer <keras.layers.regularization.dropout.Dropout object at 0x000002317C128100>, because it is not built.\n"
     ]
    },
    {
     "name": "stdout",
     "output_type": "stream",
     "text": [
      "WARNING:tensorflow:Skipping full serialization of Keras layer <keras.layers.regularization.dropout.Dropout object at 0x000002317C26D390>, because it is not built.\n"
     ]
    },
    {
     "name": "stderr",
     "output_type": "stream",
     "text": [
      "WARNING:tensorflow:Skipping full serialization of Keras layer <keras.layers.regularization.dropout.Dropout object at 0x000002317C26D390>, because it is not built.\n"
     ]
    },
    {
     "name": "stdout",
     "output_type": "stream",
     "text": [
      "WARNING:tensorflow:Skipping full serialization of Keras layer <keras.layers.regularization.dropout.Dropout object at 0x000002317C26EDA0>, because it is not built.\n"
     ]
    },
    {
     "name": "stderr",
     "output_type": "stream",
     "text": [
      "WARNING:tensorflow:Skipping full serialization of Keras layer <keras.layers.regularization.dropout.Dropout object at 0x000002317C26EDA0>, because it is not built.\n"
     ]
    },
    {
     "name": "stdout",
     "output_type": "stream",
     "text": [
      "WARNING:tensorflow:Skipping full serialization of Keras layer <keras.layers.regularization.dropout.Dropout object at 0x000002317C1B5570>, because it is not built.\n"
     ]
    },
    {
     "name": "stderr",
     "output_type": "stream",
     "text": [
      "WARNING:tensorflow:Skipping full serialization of Keras layer <keras.layers.regularization.dropout.Dropout object at 0x000002317C1B5570>, because it is not built.\n",
      "WARNING:absl:Found untraced functions such as embeddings_layer_call_fn, embeddings_layer_call_and_return_conditional_losses, transformer_layer_call_fn, transformer_layer_call_and_return_conditional_losses, LayerNorm_layer_call_fn while saving (showing 5 of 164). These functions will not be directly callable after loading.\n"
     ]
    },
    {
     "name": "stdout",
     "output_type": "stream",
     "text": [
      "INFO:tensorflow:Assets written to: C:\\Users\\loges\\AppData\\Local\\Temp\\tmp2amur3ms\\model\\data\\model\\assets\n"
     ]
    },
    {
     "name": "stderr",
     "output_type": "stream",
     "text": [
      "INFO:tensorflow:Assets written to: C:\\Users\\loges\\AppData\\Local\\Temp\\tmp2amur3ms\\model\\data\\model\\assets\n",
      "2025/03/23 17:05:54 WARNING mlflow.utils.environment: Encountered an unexpected error while inferring pip requirements (model URI: C:\\Users\\loges\\AppData\\Local\\Temp\\tmp2amur3ms\\model, flavor: tensorflow), fall back to return ['tensorflow==2.10.1']. Set logging level to DEBUG to see the full traceback.\n"
     ]
    },
    {
     "name": "stdout",
     "output_type": "stream",
     "text": [
      "119474/119474 [==============================] - 2452s 21ms/step\n",
      "BERT model and metrics logged successfully!\n",
      "BERT model logged Accuracy: 0.7477\n"
     ]
    },
    {
     "data": {
      "image/png": "[encoded data removed]",
      "text/plain": [
       "<Figure size 600x500 with 2 Axes>"
      ]
     },
     "metadata": {},
     "output_type": "display_data"
    }
   ],
   "source": [
    "import mlflow\n",
    "import mlflow.tensorflow\n",
    "import tensorflow as tf\n",
    "import numpy as np\n",
    "import matplotlib.pyplot as plt\n",
    "import seaborn as sns\n",
    "from sklearn.metrics import accuracy_score, classification_report, confusion_matrix\n",
    "\n",
    "# Set up MLflow\n",
    "experiment_name = \"SentimentAnalysis_Models\"\n",
    "mlflow.set_experiment(experiment_name)\n",
    "mlflow.set_tracking_uri(\"http://127.0.0.1:5000\")\n",
    "\n",
    "# Load GRU Model\n",
    "#bert_model = tf.keras.models.load_model(\"bert_sentiment_model_netural_option\")\n",
    "\n",
    "# # Load test dataset (Replace with actual test dataset)\n",
    "# X_test, Y_test = load_test_data()  # Make sure you have this function\n",
    "\n",
    "with mlflow.start_run(run_name=\"BERT\"):\n",
    "    print(\"Logging BERT model...\")\n",
    "\n",
    "    # Log model in MLflow\n",
    "    mlflow.tensorflow.log_model(bert_model, \"BERT_thershold\")\n",
    "\n",
    "    # Log hyperparameters\n",
    "    mlflow.log_param(\"batch_size\", 128)#\n",
    "    mlflow.log_param(\"epochs\", 8)\n",
    "    mlflow.log_param(\"model_type\", \"BERT\")\n",
    "\n",
    "    # Evaluate model\n",
    "    y_pred_dict = bert_model.predict(test_dataset)\n",
    "    y_pred_probs = y_pred_dict[\"logits\"]  # Extract logits\n",
    "    y_pred = np.argmax(y_pred_probs, axis=1)\n",
    "    # Convert TensorFlow dataset labels to numpy\n",
    "    y_true = np.concatenate([y for _, y in test_dataset], axis=0)\n",
    "    # Compute accuracy\n",
    "    accuracy = accuracy_score(y_true, y_pred)\n",
    "\n",
    "    # Compute classification report\n",
    "    report = classification_report(y_true, y_pred, output_dict=True)\n",
    "\n",
    "    # Log all metrics\n",
    "    mlflow.log_metric(\"accuracy\", accuracy)\n",
    "    mlflow.log_metric(\"precision_negative\", report[\"0\"][\"precision\"])\n",
    "    mlflow.log_metric(\"recall_negative\", report[\"0\"][\"recall\"])\n",
    "    mlflow.log_metric(\"f1_negative\", report[\"0\"][\"f1-score\"])\n",
    "    mlflow.log_metric(\"precision_neutral\", report[\"1\"][\"precision\"])\n",
    "    mlflow.log_metric(\"recall_neutral\", report[\"1\"][\"recall\"])\n",
    "    mlflow.log_metric(\"f1_neutral\", report[\"1\"][\"f1-score\"])\n",
    "    mlflow.log_metric(\"precision_positive\", report[\"2\"][\"precision\"])\n",
    "    mlflow.log_metric(\"recall_positive\", report[\"2\"][\"recall\"])\n",
    "    mlflow.log_metric(\"f1_positive\", report[\"2\"][\"f1-score\"])\n",
    "\n",
    "    # Log classification report as JSON\n",
    "    mlflow.log_dict(report, \"classification_report.json\")\n",
    "\n",
    "    # Log Confusion Matrix as Image\n",
    "    conf_matrix = confusion_matrix(y_true, y_pred)\n",
    "    plt.figure(figsize=(6, 5))\n",
    "    sns.heatmap(conf_matrix, annot=True, fmt='d', cmap=\"Blues\",\n",
    "                xticklabels=[\"Negative\", \"Neutral\", \"Positive\"],\n",
    "                yticklabels=[\"Negative\", \"Neutral\", \"Positive\"])\n",
    "    plt.xlabel(\"Predicted Label\")\n",
    "    plt.ylabel(\"True Label\")\n",
    "    plt.title(\"Confusion Matrix - BERT\")\n",
    "    \n",
    "    # Save and log confusion matrix\n",
    "    conf_matrix_filename = \"BERT_conf_matrix.png\"\n",
    "    plt.savefig(conf_matrix_filename)\n",
    "    mlflow.log_artifact(conf_matrix_filename)\n",
    "\n",
    "    print(\"BERT model and metrics logged successfully!\")\n",
    "    print(f\"BERT model logged Accuracy: {accuracy:.4f}\")\n"
   ]
  },
  {
   "cell_type": "code",
   "execution_count": null,
   "metadata": {},
   "outputs": [],
   "source": []
  },
  {
   "cell_type": "code",
   "execution_count": null,
   "metadata": {},
   "outputs": [],
   "source": []
  },
  {
   "cell_type": "code",
   "execution_count": null,
   "metadata": {},
   "outputs": [],
   "source": []
  }
 ],
 "metadata": {
  "kernelspec": {
   "display_name": "tensorflow_env",
   "language": "python",
   "name": "python3"
  },
  "language_info": {
   "codemirror_mode": {
    "name": "ipython",
    "version": 3
   },
   "file_extension": ".py",
   "mimetype": "text/x-python",
   "name": "python",
   "nbconvert_exporter": "python",
   "pygments_lexer": "ipython3",
   "version": "3.10.16"
  }
 },
 "nbformat": 4,
 "nbformat_minor": 2
}
